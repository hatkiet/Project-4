{
  "cells": [
    {
      "cell_type": "markdown",
      "metadata": {
        "colab_type": "text",
        "id": "view-in-github"
      },
      "source": [
        "<a href=\"https://colab.research.google.com/github/hatkiet/Project_4/blob/main/1_HeartAttack_SparkSQL.ipynb\" target=\"_parent\"><img src=\"https://colab.research.google.com/assets/colab-badge.svg\" alt=\"Open In Colab\"/></a>"
      ]
    },
    {
      "cell_type": "markdown",
      "metadata": {
        "id": "Vv16HppWUeva"
      },
      "source": [
        "## Dataframe Basics"
      ]
    },
    {
      "cell_type": "markdown",
      "metadata": {},
      "source": [
        "#### Note: this notebook should be run in Google Colab"
      ]
    },
    {
      "cell_type": "code",
      "execution_count": null,
      "metadata": {
        "colab": {
          "base_uri": "https://localhost:8080/"
        },
        "id": "G1sd9SzuUvob",
        "outputId": "0244bc1d-0b5e-41e8-8e31-1c10bb04cfe8"
      },
      "outputs": [
        {
          "name": "stdout",
          "output_type": "stream",
          "text": [
            "\r0% [Working]\r            \rHit:1 http://archive.ubuntu.com/ubuntu jammy InRelease\n",
            "\r0% [Connecting to security.ubuntu.com (185.125.190.36)] [Connected to cloud.r-project.org (108.157.1\r                                                                                                    \rGet:2 http://archive.ubuntu.com/ubuntu jammy-updates InRelease [128 kB]\n",
            "\r                                                                                                    \rGet:3 https://cloud.r-project.org/bin/linux/ubuntu jammy-cran40/ InRelease [3,626 B]\n",
            "\r                                                                                                    \rHit:4 https://developer.download.nvidia.com/compute/cuda/repos/ubuntu2204/x86_64  InRelease\n",
            "Get:5 http://security.ubuntu.com/ubuntu jammy-security InRelease [129 kB]\n",
            "Hit:6 http://archive.ubuntu.com/ubuntu jammy-backports InRelease\n",
            "Get:7 http://archive.ubuntu.com/ubuntu jammy-updates/universe amd64 Packages [1,391 kB]\n",
            "Get:8 http://archive.ubuntu.com/ubuntu jammy-updates/restricted amd64 Packages [2,537 kB]\n",
            "Get:9 http://archive.ubuntu.com/ubuntu jammy-updates/main amd64 Packages [2,179 kB]\n",
            "Hit:10 https://ppa.launchpadcontent.net/c2d4u.team/c2d4u4.0+/ubuntu jammy InRelease\n",
            "Hit:11 https://ppa.launchpadcontent.net/deadsnakes/ppa/ubuntu jammy InRelease\n",
            "Hit:12 https://ppa.launchpadcontent.net/graphics-drivers/ppa/ubuntu jammy InRelease\n",
            "Hit:13 https://ppa.launchpadcontent.net/ubuntugis/ppa/ubuntu jammy InRelease\n",
            "Get:14 http://security.ubuntu.com/ubuntu jammy-security/main amd64 Packages [1,901 kB]\n",
            "Get:15 http://security.ubuntu.com/ubuntu jammy-security/universe amd64 Packages [1,090 kB]\n",
            "Get:16 http://security.ubuntu.com/ubuntu jammy-security/restricted amd64 Packages [2,453 kB]\n",
            "Fetched 11.8 MB in 9s (1,257 kB/s)\n",
            "Reading package lists... Done\n"
          ]
        }
      ],
      "source": [
        "import os\n",
        "# Find the latest version of spark 3.x  from http://www.apache.org/dist/spark/ and enter as the spark version\n",
        "# For example:\n",
        "# spark_version = 'spark-3.5.1'\n",
        "spark_version = 'spark-3.5.1'\n",
        "os.environ['SPARK_VERSION']=spark_version\n",
        "\n",
        "# Install Spark and Java\n",
        "!apt-get update\n",
        "!apt-get install openjdk-11-jdk-headless -qq > /dev/null\n",
        "!wget -q http://www.apache.org/dist/spark/$SPARK_VERSION/$SPARK_VERSION-bin-hadoop3.tgz\n",
        "!tar xf $SPARK_VERSION-bin-hadoop3.tgz\n",
        "!pip install -q findspark\n",
        "\n",
        "# Set Environment Variables\n",
        "os.environ[\"JAVA_HOME\"] = \"/usr/lib/jvm/java-11-openjdk-amd64\"\n",
        "os.environ[\"SPARK_HOME\"] = f\"/content/{spark_version}-bin-hadoop3\"\n",
        "\n",
        "# Start a SparkSession\n",
        "import findspark\n",
        "findspark.init()"
      ]
    },
    {
      "cell_type": "code",
      "execution_count": null,
      "metadata": {
        "id": "nPRmMt8FVirP"
      },
      "outputs": [],
      "source": [
        "# Start Spark session\n",
        "from pyspark.sql import SparkSession\n",
        "spark = SparkSession.builder.appName(\"HeartAttack\").getOrCreate()"
      ]
    },
    {
      "cell_type": "code",
      "execution_count": null,
      "metadata": {
        "colab": {
          "base_uri": "https://localhost:8080/"
        },
        "id": "pPblsa7lgYMz",
        "outputId": "cdf401a7-35cf-414f-9502-75f6f909c2cc"
      },
      "outputs": [
        {
          "name": "stdout",
          "output_type": "stream",
          "text": [
            "Dataset URL: https://www.kaggle.com/datasets/kamilpytlak/personal-key-indicators-of-heart-disease\n",
            "License(s): CC0-1.0\n",
            "Downloading personal-key-indicators-of-heart-disease.zip to /content\n",
            " 28% 6.00M/21.4M [00:00<00:00, 62.0MB/s]\n",
            "100% 21.4M/21.4M [00:00<00:00, 143MB/s] \n",
            "Archive:  personal-key-indicators-of-heart-disease.zip\n",
            "  inflating: /content/heart_2022_with_nans.csv  \n"
          ]
        }
      ],
      "source": [
        "#Download datasets from kaggle\n",
        "!kaggle datasets download -d kamilpytlak/personal-key-indicators-of-heart-disease --force\n",
        "\n",
        "#unzip\n",
        "!unzip -jo personal-key-indicators-of-heart-disease.zip \"2022/heart_2022_with_nans.csv\" -d /content/"
      ]
    },
    {
      "cell_type": "code",
      "execution_count": null,
      "metadata": {
        "id": "radFWve6giIu"
      },
      "outputs": [],
      "source": [
        "#Read in dataset from CSV file into spark\n",
        "from pyspark import SparkFiles\n",
        "df = spark.read.csv(SparkFiles.get(\"/content/heart_2022_with_nans.csv\"), sep=\",\", header=True)"
      ]
    },
    {
      "cell_type": "code",
      "execution_count": null,
      "metadata": {
        "colab": {
          "base_uri": "https://localhost:8080/"
        },
        "id": "MVW7jBoKUeve",
        "outputId": "6dcdcf77-f7f8-426c-b4a1-c5ffe3d2a65a"
      },
      "outputs": [
        {
          "name": "stdout",
          "output_type": "stream",
          "text": [
            "+-------+------+-------------+------------------+----------------+--------------------+------------------+----------+------------+--------------+---------+---------+---------+-------------+-------+---------------------+----------------+------------+-----------+-------------------+-----------------------+-----------------------+-----------------+-------------------------+-----------------+--------------------+--------------------+---------+---------------------+---------------+--------------+-----------------+-----+---------------+----------+------------+-------------+--------------------+----------------+--------+\n",
            "|  State|   Sex|GeneralHealth|PhysicalHealthDays|MentalHealthDays|     LastCheckupTime|PhysicalActivities|SleepHours|RemovedTeeth|HadHeartAttack|HadAngina|HadStroke|HadAsthma|HadSkinCancer|HadCOPD|HadDepressiveDisorder|HadKidneyDisease|HadArthritis|HadDiabetes|DeafOrHardOfHearing|BlindOrVisionDifficulty|DifficultyConcentrating|DifficultyWalking|DifficultyDressingBathing|DifficultyErrands|        SmokerStatus|     ECigaretteUsage|ChestScan|RaceEthnicityCategory|    AgeCategory|HeightInMeters|WeightInKilograms|  BMI|AlcoholDrinkers|HIVTesting|FluVaxLast12|PneumoVaxEver|   TetanusLast10Tdap|HighRiskLastYear|CovidPos|\n",
            "+-------+------+-------------+------------------+----------------+--------------------+------------------+----------+------------+--------------+---------+---------+---------+-------------+-------+---------------------+----------------+------------+-----------+-------------------+-----------------------+-----------------------+-----------------+-------------------------+-----------------+--------------------+--------------------+---------+---------------------+---------------+--------------+-----------------+-----+---------------+----------+------------+-------------+--------------------+----------------+--------+\n",
            "|Alabama|Female|    Very good|               0.0|             0.0|Within past year ...|                No|       8.0|        NULL|            No|       No|       No|       No|           No|     No|                   No|              No|          No|        Yes|                 No|                     No|                     No|               No|                       No|               No|        Never smoked|Not at all (right...|       No| White only, Non-H...|Age 80 or older|          NULL|             NULL| NULL|             No|        No|         Yes|           No|Yes, received tet...|              No|      No|\n",
            "|Alabama|Female|    Excellent|               0.0|             0.0|                NULL|                No|       6.0|        NULL|            No|       No|       No|       No|          Yes|     No|                   No|              No|          No|         No|                 No|                     No|                     No|               No|                       No|               No|        Never smoked|Never used e-ciga...|       No| White only, Non-H...|Age 80 or older|           1.6|            68.04|26.57|             No|        No|          No|           No|No, did not recei...|              No|      No|\n",
            "|Alabama|Female|    Very good|               2.0|             3.0|Within past year ...|               Yes|       5.0|        NULL|            No|       No|       No|       No|          Yes|     No|                   No|              No|          No|         No|                 No|                     No|                     No|               No|                       No|               No|        Never smoked|Never used e-ciga...|       No| White only, Non-H...|   Age 55 to 59|          1.57|             63.5|25.61|             No|        No|          No|           No|                NULL|              No|     Yes|\n",
            "|Alabama|Female|    Excellent|               0.0|             0.0|Within past year ...|               Yes|       7.0|        NULL|            No|       No|       No|      Yes|           No|     No|                   No|              No|         Yes|         No|                 No|                     No|                     No|               No|                       No|               No|Current smoker - ...|Never used e-ciga...|      Yes| White only, Non-H...|           NULL|          1.65|             63.5| 23.3|             No|        No|         Yes|          Yes|No, did not recei...|              No|      No|\n",
            "|Alabama|Female|         Fair|               2.0|             0.0|Within past year ...|               Yes|       9.0|        NULL|            No|       No|       No|       No|           No|     No|                   No|              No|          No|         No|                 No|                     No|                     No|               No|                       No|               No|        Never smoked|Never used e-ciga...|      Yes| White only, Non-H...|   Age 40 to 44|          1.57|            53.98|21.77|            Yes|        No|          No|          Yes|No, did not recei...|              No|      No|\n",
            "|Alabama|  Male|         Poor|               1.0|             0.0|Within past year ...|                No|       7.0|        NULL|           Yes|       No|      Yes|       No|           No|     No|                   No|              No|          No|        Yes|                 No|                     No|                     No|               No|                       No|               No|        Never smoked|Never used e-ciga...|       No| White only, Non-H...|Age 80 or older|           1.8|            84.82|26.08|             No|        No|          No|          Yes|No, did not recei...|              No|      No|\n",
            "|Alabama|Female|    Very good|               0.0|             0.0|Within past year ...|               Yes|       7.0|        NULL|            No|       No|       No|       No|           No|     No|                   No|              No|          No|         No|                 No|                     No|                     No|               No|                       No|               No|       Former smoker|Never used e-ciga...|       No| Black only, Non-H...|Age 80 or older|          1.65|             62.6|22.96|            Yes|        No|          No|           No|No, did not recei...|              No|      No|\n",
            "|Alabama|Female|         Good|               0.0|             0.0|Within past year ...|                No|       8.0|        NULL|            No|       No|       No|       No|           No|     No|                   No|              No|         Yes|         No|                 No|                     No|                     No|               No|                       No|               No|        Never smoked|Never used e-ciga...|      Yes| White only, Non-H...|Age 80 or older|          1.63|            73.48|27.81|             No|        No|         Yes|          Yes|Yes, received tet...|              No|      No|\n",
            "|Alabama|Female|         Good|               0.0|             0.0|Within past year ...|               Yes|       6.0|        NULL|            No|       No|       No|       No|          Yes|     No|                   No|              No|         Yes|         No|                 No|                    Yes|                     No|              Yes|                       No|               No|       Former smoker|Not at all (right...|     NULL| White only, Non-H...|   Age 75 to 79|           1.7|             NULL| NULL|             No|       Yes|          No|           No|Yes, received tet...|              No|      No|\n",
            "|Alabama|Female|         Good|               1.0|             0.0|Within past year ...|               Yes|       7.0|        NULL|            No|       No|       No|       No|           No|     No|                   No|             Yes|          No|        Yes|                 No|                     No|                     No|               No|                       No|               No|        Never smoked|Never used e-ciga...|     NULL| White only, Non-H...|   Age 70 to 74|          1.68|            81.65|29.05|            Yes|      NULL|         Yes|          Yes|No, did not recei...|              No|      No|\n",
            "|Alabama|Female|         Fair|               8.0|             9.0|Within past year ...|                No|       8.0|        NULL|            No|       No|       No|       No|           No|     No|                   No|              No|          No|         No|               NULL|                     No|                     No|               No|                       No|               No|        Never smoked|Never used e-ciga...|      Yes| White only, Non-H...|Age 80 or older|           1.6|            74.84|29.23|             No|        No|         Yes|          Yes|Yes, received tet...|              No|      No|\n",
            "|Alabama|Female|         Good|               0.0|             0.0|Within past year ...|                No|       6.0|        NULL|            No|       No|       No|       No|           No|     No|                   No|              No|          No|         No|                 No|                     No|                     No|               No|                       No|               No|        Never smoked|Never used e-ciga...|       No| White only, Non-H...|Age 80 or older|           1.6|            59.42|23.21|             No|        No|         Yes|          Yes|Yes, received tet...|              No|      No|\n",
            "|Alabama|  Male|         Fair|               5.0|             0.0|Within past year ...|                No|       6.0|        NULL|            No|       No|       No|      Yes|           No|     No|                   No|              No|         Yes|         No|                 No|                     No|                     No|              Yes|                       No|               No|       Former smoker|Never used e-ciga...|      Yes| Black only, Non-H...|   Age 55 to 59|          1.73|            85.28|28.59|            Yes|       Yes|         Yes|           No|No, did not recei...|              No|      No|\n",
            "|Alabama|  Male|    Very good|               0.0|             0.0|Within past year ...|               Yes|       8.0|        NULL|            No|       No|       No|       No|           No|     No|                   No|              No|          No|         No|                 No|                     No|                     No|               No|                       No|               No|        Never smoked|Never used e-ciga...|       No| White only, Non-H...|   Age 65 to 69|           1.8|           106.59|32.78|            Yes|       Yes|          No|         NULL|                NULL|              No|      No|\n",
            "|Alabama|Female|         Good|              30.0|             5.0|Within past year ...|               Yes|       8.0|        NULL|            No|       No|       No|       No|          Yes|     No|                   No|              No|         Yes|         No|                Yes|                     No|                     No|              Yes|                       No|               No|        Never smoked|Never used e-ciga...|      Yes| White only, Non-H...|Age 80 or older|          1.68|            71.21|25.34|            Yes|        No|          No|          Yes|Yes, received tet...|              No|      No|\n",
            "|Alabama|Female|    Excellent|               0.0|             0.0|Within past year ...|               Yes|       8.0|        NULL|            No|       No|       No|       No|           No|     No|                   No|              No|          No|         No|                 No|                     No|                     No|               No|                       No|               No|                NULL|Never used e-ciga...|       No| White only, Non-H...|   Age 65 to 69|          1.57|            64.41|25.97|             No|      NULL|         Yes|           No|  Yes, received Tdap|              No|      No|\n",
            "|Alabama|Female|    Excellent|               0.0|             0.0|Within past year ...|               Yes|       6.0|        NULL|            No|       No|       No|       No|           No|     No|                   No|              No|          No|         No|                 No|                     No|                     No|               No|                       No|               No|        Never smoked|Never used e-ciga...|      Yes| Black only, Non-H...|           NULL|          1.57|            61.23|24.69|             No|        No|         Yes|          Yes|  Yes, received Tdap|              No|      No|\n",
            "|Alabama|Female|         Fair|               0.0|            15.0|Within past year ...|               Yes|       6.0|        NULL|            No|       No|       No|      Yes|          Yes|    Yes|                   No|              No|         Yes|        Yes|                 No|                     No|                     No|              Yes|                       No|              Yes|       Former smoker|Never used e-ciga...|     NULL| White only, Non-H...|Age 80 or older|          1.68|            90.72|32.28|             No|        No|         Yes|          Yes|No, did not recei...|              No|     Yes|\n",
            "|Alabama|Female|         Poor|               0.0|             0.0|Within past year ...|               Yes|       4.0|        NULL|            No|       No|      Yes|       No|           No|     No|                   No|              No|         Yes|         No|                 No|                     No|                     No|               No|                       No|               No|        Never smoked|Never used e-ciga...|      Yes| White only, Non-H...|   Age 70 to 74|          1.63|            65.77|24.89|             No|      NULL|         Yes|          Yes|Yes, received tet...|              No|      No|\n",
            "|Alabama|Female|    Very good|               0.0|             0.0|Within past year ...|               Yes|       6.0|        NULL|            No|       No|       No|       No|          Yes|     No|                   No|              No|          No|         No|                 No|                     No|                     No|               No|                       No|               No|        Never smoked|Never used e-ciga...|       No| White only, Non-H...|   Age 60 to 64|           1.7|            66.22|22.87|            Yes|      NULL|        NULL|         NULL|                NULL|            NULL|    NULL|\n",
            "+-------+------+-------------+------------------+----------------+--------------------+------------------+----------+------------+--------------+---------+---------+---------+-------------+-------+---------------------+----------------+------------+-----------+-------------------+-----------------------+-----------------------+-----------------+-------------------------+-----------------+--------------------+--------------------+---------+---------------------+---------------+--------------+-----------------+-----+---------------+----------+------------+-------------+--------------------+----------------+--------+\n",
            "only showing top 20 rows\n",
            "\n"
          ]
        }
      ],
      "source": [
        "# Show DataFrame\n",
        "df.show()"
      ]
    },
    {
      "cell_type": "code",
      "execution_count": null,
      "metadata": {
        "colab": {
          "base_uri": "https://localhost:8080/"
        },
        "id": "u7AbwqP5jdJy",
        "outputId": "9b91fcec-606c-4dfc-9a7c-84d9847c3113"
      },
      "outputs": [
        {
          "name": "stdout",
          "output_type": "stream",
          "text": [
            "root\n",
            " |-- State: string (nullable = true)\n",
            " |-- Sex: string (nullable = true)\n",
            " |-- GeneralHealth: string (nullable = true)\n",
            " |-- PhysicalHealthDays: string (nullable = true)\n",
            " |-- MentalHealthDays: string (nullable = true)\n",
            " |-- LastCheckupTime: string (nullable = true)\n",
            " |-- PhysicalActivities: string (nullable = true)\n",
            " |-- SleepHours: string (nullable = true)\n",
            " |-- RemovedTeeth: string (nullable = true)\n",
            " |-- HadHeartAttack: string (nullable = true)\n",
            " |-- HadAngina: string (nullable = true)\n",
            " |-- HadStroke: string (nullable = true)\n",
            " |-- HadAsthma: string (nullable = true)\n",
            " |-- HadSkinCancer: string (nullable = true)\n",
            " |-- HadCOPD: string (nullable = true)\n",
            " |-- HadDepressiveDisorder: string (nullable = true)\n",
            " |-- HadKidneyDisease: string (nullable = true)\n",
            " |-- HadArthritis: string (nullable = true)\n",
            " |-- HadDiabetes: string (nullable = true)\n",
            " |-- DeafOrHardOfHearing: string (nullable = true)\n",
            " |-- BlindOrVisionDifficulty: string (nullable = true)\n",
            " |-- DifficultyConcentrating: string (nullable = true)\n",
            " |-- DifficultyWalking: string (nullable = true)\n",
            " |-- DifficultyDressingBathing: string (nullable = true)\n",
            " |-- DifficultyErrands: string (nullable = true)\n",
            " |-- SmokerStatus: string (nullable = true)\n",
            " |-- ECigaretteUsage: string (nullable = true)\n",
            " |-- ChestScan: string (nullable = true)\n",
            " |-- RaceEthnicityCategory: string (nullable = true)\n",
            " |-- AgeCategory: string (nullable = true)\n",
            " |-- HeightInMeters: string (nullable = true)\n",
            " |-- WeightInKilograms: string (nullable = true)\n",
            " |-- BMI: string (nullable = true)\n",
            " |-- AlcoholDrinkers: string (nullable = true)\n",
            " |-- HIVTesting: string (nullable = true)\n",
            " |-- FluVaxLast12: string (nullable = true)\n",
            " |-- PneumoVaxEver: string (nullable = true)\n",
            " |-- TetanusLast10Tdap: string (nullable = true)\n",
            " |-- HighRiskLastYear: string (nullable = true)\n",
            " |-- CovidPos: string (nullable = true)\n",
            "\n"
          ]
        }
      ],
      "source": [
        "# Print our schema\n",
        "df.printSchema()"
      ]
    },
    {
      "cell_type": "code",
      "execution_count": null,
      "metadata": {
        "colab": {
          "base_uri": "https://localhost:8080/"
        },
        "id": "uwIhrrWlUevj",
        "outputId": "49c39322-6758-4e93-851e-3c65aeda9531"
      },
      "outputs": [
        {
          "data": {
            "text/plain": [
              "['State',\n",
              " 'Sex',\n",
              " 'GeneralHealth',\n",
              " 'PhysicalHealthDays',\n",
              " 'MentalHealthDays',\n",
              " 'LastCheckupTime',\n",
              " 'PhysicalActivities',\n",
              " 'SleepHours',\n",
              " 'RemovedTeeth',\n",
              " 'HadHeartAttack',\n",
              " 'HadAngina',\n",
              " 'HadStroke',\n",
              " 'HadAsthma',\n",
              " 'HadSkinCancer',\n",
              " 'HadCOPD',\n",
              " 'HadDepressiveDisorder',\n",
              " 'HadKidneyDisease',\n",
              " 'HadArthritis',\n",
              " 'HadDiabetes',\n",
              " 'DeafOrHardOfHearing',\n",
              " 'BlindOrVisionDifficulty',\n",
              " 'DifficultyConcentrating',\n",
              " 'DifficultyWalking',\n",
              " 'DifficultyDressingBathing',\n",
              " 'DifficultyErrands',\n",
              " 'SmokerStatus',\n",
              " 'ECigaretteUsage',\n",
              " 'ChestScan',\n",
              " 'RaceEthnicityCategory',\n",
              " 'AgeCategory',\n",
              " 'HeightInMeters',\n",
              " 'WeightInKilograms',\n",
              " 'BMI',\n",
              " 'AlcoholDrinkers',\n",
              " 'HIVTesting',\n",
              " 'FluVaxLast12',\n",
              " 'PneumoVaxEver',\n",
              " 'TetanusLast10Tdap',\n",
              " 'HighRiskLastYear',\n",
              " 'CovidPos']"
            ]
          },
          "execution_count": 7,
          "metadata": {},
          "output_type": "execute_result"
        }
      ],
      "source": [
        "# Show the columns\n",
        "df.columns"
      ]
    },
    {
      "cell_type": "code",
      "execution_count": null,
      "metadata": {
        "colab": {
          "base_uri": "https://localhost:8080/"
        },
        "id": "HIEN0qoVUevs",
        "outputId": "60ff10e5-1d72-428f-a04b-6ad0fde55ce6"
      },
      "outputs": [
        {
          "data": {
            "text/plain": [
              "DataFrame[summary: string, State: string, Sex: string, GeneralHealth: string, PhysicalHealthDays: string, MentalHealthDays: string, LastCheckupTime: string, PhysicalActivities: string, SleepHours: string, RemovedTeeth: string, HadHeartAttack: string, HadAngina: string, HadStroke: string, HadAsthma: string, HadSkinCancer: string, HadCOPD: string, HadDepressiveDisorder: string, HadKidneyDisease: string, HadArthritis: string, HadDiabetes: string, DeafOrHardOfHearing: string, BlindOrVisionDifficulty: string, DifficultyConcentrating: string, DifficultyWalking: string, DifficultyDressingBathing: string, DifficultyErrands: string, SmokerStatus: string, ECigaretteUsage: string, ChestScan: string, RaceEthnicityCategory: string, AgeCategory: string, HeightInMeters: string, WeightInKilograms: string, BMI: string, AlcoholDrinkers: string, HIVTesting: string, FluVaxLast12: string, PneumoVaxEver: string, TetanusLast10Tdap: string, HighRiskLastYear: string, CovidPos: string]"
            ]
          },
          "execution_count": 8,
          "metadata": {},
          "output_type": "execute_result"
        }
      ],
      "source": [
        "# Describe our data\n",
        "df.describe()"
      ]
    },
    {
      "cell_type": "code",
      "execution_count": null,
      "metadata": {
        "colab": {
          "base_uri": "https://localhost:8080/"
        },
        "id": "z4jxON_LibOu",
        "outputId": "2e41c331-53e4-4124-d869-a55761cd7f35"
      },
      "outputs": [
        {
          "name": "stdout",
          "output_type": "stream",
          "text": [
            "+-------+------------------+-----------------+-----------------+------------------+\n",
            "|summary|PhysicalHealthDays| MentalHealthDays|       SleepHours|               BMI|\n",
            "+-------+------------------+-----------------+-----------------+------------------+\n",
            "|  count|            434205|           436065|           439679|            396326|\n",
            "|   mean| 4.347918609873217|4.382649375666472|7.022982675997716|28.529841822135072|\n",
            "| stddev| 8.688911998349093|8.387474653346173|1.502425012888308|  6.55488866716511|\n",
            "|    min|               0.0|              0.0|              1.0|             12.02|\n",
            "|    max|               9.0|              9.0|              9.0|             99.64|\n",
            "+-------+------------------+-----------------+-----------------+------------------+\n",
            "\n"
          ]
        }
      ],
      "source": [
        "df.select([\"PhysicalHealthDays\", \"MentalHealthDays\", \"SleepHours\", \"BMI\"]).describe().show()"
      ]
    },
    {
      "cell_type": "code",
      "execution_count": null,
      "metadata": {
        "colab": {
          "base_uri": "https://localhost:8080/"
        },
        "id": "Y7esD6FGkKml",
        "outputId": "edacad27-6b82-4033-fcab-2b764643aa02"
      },
      "outputs": [
        {
          "name": "stdout",
          "output_type": "stream",
          "text": [
            "+-------+------+-------------+------------------+----------------+------------------+----------+--------------+---------+---------+---------+-------------+---------------------+----------------+-----------+-----------------+--------------------+--------------------+---------+---------------------+---------------+-----+---------------+\n",
            "|  State|   Sex|GeneralHealth|PhysicalHealthDays|MentalHealthDays|PhysicalActivities|SleepHours|HadHeartAttack|HadAngina|HadStroke|HadAsthma|HadSkinCancer|HadDepressiveDisorder|HadKidneyDisease|HadDiabetes|DifficultyWalking|        SmokerStatus|     ECigaretteUsage|ChestScan|RaceEthnicityCategory|    AgeCategory|  BMI|AlcoholDrinkers|\n",
            "+-------+------+-------------+------------------+----------------+------------------+----------+--------------+---------+---------+---------+-------------+---------------------+----------------+-----------+-----------------+--------------------+--------------------+---------+---------------------+---------------+-----+---------------+\n",
            "|Alabama|Female|    Very good|               0.0|             0.0|                No|       8.0|            No|       No|       No|       No|           No|                   No|              No|        Yes|               No|        Never smoked|Not at all (right...|       No| White only, Non-H...|Age 80 or older| NULL|             No|\n",
            "|Alabama|Female|    Excellent|               0.0|             0.0|                No|       6.0|            No|       No|       No|       No|          Yes|                   No|              No|         No|               No|        Never smoked|Never used e-ciga...|       No| White only, Non-H...|Age 80 or older|26.57|             No|\n",
            "|Alabama|Female|    Very good|               2.0|             3.0|               Yes|       5.0|            No|       No|       No|       No|          Yes|                   No|              No|         No|               No|        Never smoked|Never used e-ciga...|       No| White only, Non-H...|   Age 55 to 59|25.61|             No|\n",
            "|Alabama|Female|    Excellent|               0.0|             0.0|               Yes|       7.0|            No|       No|       No|      Yes|           No|                   No|              No|         No|               No|Current smoker - ...|Never used e-ciga...|      Yes| White only, Non-H...|           NULL| 23.3|             No|\n",
            "|Alabama|Female|         Fair|               2.0|             0.0|               Yes|       9.0|            No|       No|       No|       No|           No|                   No|              No|         No|               No|        Never smoked|Never used e-ciga...|      Yes| White only, Non-H...|   Age 40 to 44|21.77|            Yes|\n",
            "|Alabama|  Male|         Poor|               1.0|             0.0|                No|       7.0|           Yes|       No|      Yes|       No|           No|                   No|              No|        Yes|               No|        Never smoked|Never used e-ciga...|       No| White only, Non-H...|Age 80 or older|26.08|             No|\n",
            "|Alabama|Female|    Very good|               0.0|             0.0|               Yes|       7.0|            No|       No|       No|       No|           No|                   No|              No|         No|               No|       Former smoker|Never used e-ciga...|       No| Black only, Non-H...|Age 80 or older|22.96|            Yes|\n",
            "|Alabama|Female|         Good|               0.0|             0.0|                No|       8.0|            No|       No|       No|       No|           No|                   No|              No|         No|               No|        Never smoked|Never used e-ciga...|      Yes| White only, Non-H...|Age 80 or older|27.81|             No|\n",
            "|Alabama|Female|         Good|               0.0|             0.0|               Yes|       6.0|            No|       No|       No|       No|          Yes|                   No|              No|         No|              Yes|       Former smoker|Not at all (right...|     NULL| White only, Non-H...|   Age 75 to 79| NULL|             No|\n",
            "|Alabama|Female|         Good|               1.0|             0.0|               Yes|       7.0|            No|       No|       No|       No|           No|                   No|             Yes|        Yes|               No|        Never smoked|Never used e-ciga...|     NULL| White only, Non-H...|   Age 70 to 74|29.05|            Yes|\n",
            "|Alabama|Female|         Fair|               8.0|             9.0|                No|       8.0|            No|       No|       No|       No|           No|                   No|              No|         No|               No|        Never smoked|Never used e-ciga...|      Yes| White only, Non-H...|Age 80 or older|29.23|             No|\n",
            "|Alabama|Female|         Good|               0.0|             0.0|                No|       6.0|            No|       No|       No|       No|           No|                   No|              No|         No|               No|        Never smoked|Never used e-ciga...|       No| White only, Non-H...|Age 80 or older|23.21|             No|\n",
            "|Alabama|  Male|         Fair|               5.0|             0.0|                No|       6.0|            No|       No|       No|      Yes|           No|                   No|              No|         No|              Yes|       Former smoker|Never used e-ciga...|      Yes| Black only, Non-H...|   Age 55 to 59|28.59|            Yes|\n",
            "|Alabama|  Male|    Very good|               0.0|             0.0|               Yes|       8.0|            No|       No|       No|       No|           No|                   No|              No|         No|               No|        Never smoked|Never used e-ciga...|       No| White only, Non-H...|   Age 65 to 69|32.78|            Yes|\n",
            "|Alabama|Female|         Good|              30.0|             5.0|               Yes|       8.0|            No|       No|       No|       No|          Yes|                   No|              No|         No|              Yes|        Never smoked|Never used e-ciga...|      Yes| White only, Non-H...|Age 80 or older|25.34|            Yes|\n",
            "|Alabama|Female|    Excellent|               0.0|             0.0|               Yes|       8.0|            No|       No|       No|       No|           No|                   No|              No|         No|               No|                NULL|Never used e-ciga...|       No| White only, Non-H...|   Age 65 to 69|25.97|             No|\n",
            "|Alabama|Female|    Excellent|               0.0|             0.0|               Yes|       6.0|            No|       No|       No|       No|           No|                   No|              No|         No|               No|        Never smoked|Never used e-ciga...|      Yes| Black only, Non-H...|           NULL|24.69|             No|\n",
            "|Alabama|Female|         Fair|               0.0|            15.0|               Yes|       6.0|            No|       No|       No|      Yes|          Yes|                   No|              No|        Yes|              Yes|       Former smoker|Never used e-ciga...|     NULL| White only, Non-H...|Age 80 or older|32.28|             No|\n",
            "|Alabama|Female|         Poor|               0.0|             0.0|               Yes|       4.0|            No|       No|      Yes|       No|           No|                   No|              No|         No|               No|        Never smoked|Never used e-ciga...|      Yes| White only, Non-H...|   Age 70 to 74|24.89|             No|\n",
            "|Alabama|Female|    Very good|               0.0|             0.0|               Yes|       6.0|            No|       No|       No|       No|          Yes|                   No|              No|         No|               No|        Never smoked|Never used e-ciga...|       No| White only, Non-H...|   Age 60 to 64|22.87|            Yes|\n",
            "+-------+------+-------------+------------------+----------------+------------------+----------+--------------+---------+---------+---------+-------------+---------------------+----------------+-----------+-----------------+--------------------+--------------------+---------+---------------------+---------------+-----+---------------+\n",
            "only showing top 20 rows\n",
            "\n"
          ]
        }
      ],
      "source": [
        "columns_to_remove = [\n",
        "    'LastCheckupTime', 'RemovedTeeth', 'HadCOPD',\n",
        "    'HadArthritis', 'DeafOrHardOfHearing', 'BlindOrVisionDifficulty',\n",
        "    'DifficultyConcentrating', 'DifficultyDressingBathing', 'DifficultyErrands',\n",
        "    'HeightInMeters', 'WeightInKilograms', 'HIVTesting', 'FluVaxLast12',\n",
        "    'PneumoVaxEver', 'TetanusLast10Tdap', 'HighRiskLastYear', 'CovidPos'\n",
        "]\n",
        "\n",
        "df = df.drop(*columns_to_remove)\n",
        "df.show()"
      ]
    },
    {
      "cell_type": "code",
      "execution_count": null,
      "metadata": {
        "colab": {
          "base_uri": "https://localhost:8080/"
        },
        "id": "dsi6J7QbpkiO",
        "outputId": "61fb34c4-812c-4170-9a9a-8ff7eb08edba"
      },
      "outputs": [
        {
          "data": {
            "text/plain": [
              "['State',\n",
              " 'Sex',\n",
              " 'GeneralHealth',\n",
              " 'PhysicalHealthDays',\n",
              " 'MentalHealthDays',\n",
              " 'PhysicalActivities',\n",
              " 'SleepHours',\n",
              " 'HadHeartAttack',\n",
              " 'HadAngina',\n",
              " 'HadStroke',\n",
              " 'HadAsthma',\n",
              " 'HadSkinCancer',\n",
              " 'HadDepressiveDisorder',\n",
              " 'HadKidneyDisease',\n",
              " 'HadDiabetes',\n",
              " 'DifficultyWalking',\n",
              " 'SmokerStatus',\n",
              " 'ECigaretteUsage',\n",
              " 'ChestScan',\n",
              " 'RaceEthnicityCategory',\n",
              " 'AgeCategory',\n",
              " 'BMI',\n",
              " 'AlcoholDrinkers']"
            ]
          },
          "execution_count": 11,
          "metadata": {},
          "output_type": "execute_result"
        }
      ],
      "source": [
        "df.columns"
      ]
    },
    {
      "cell_type": "code",
      "execution_count": null,
      "metadata": {
        "colab": {
          "base_uri": "https://localhost:8080/"
        },
        "id": "cneXg88vqOwX",
        "outputId": "d4e154fe-a877-4e24-a974-596954ef2f3f"
      },
      "outputs": [
        {
          "name": "stdout",
          "output_type": "stream",
          "text": [
            "+-------+------+---------------+---------------------+-----+-------------+------------------+----------------+------------------+---------+----------+-----------------+--------------------+--------------------+---------------+--------------+---------+---------+---------+-------------+---------------------+----------------+-----------+\n",
            "|  State|   Sex|    AgeCategory|RaceEthnicityCategory|  BMI|GeneralHealth|PhysicalHealthDays|MentalHealthDays|PhysicalActivities|ChestScan|SleepHours|DifficultyWalking|        SmokerStatus|     ECigaretteUsage|AlcoholDrinkers|HadHeartAttack|HadAngina|HadStroke|HadAsthma|HadSkinCancer|HadDepressiveDisorder|HadKidneyDisease|HadDiabetes|\n",
            "+-------+------+---------------+---------------------+-----+-------------+------------------+----------------+------------------+---------+----------+-----------------+--------------------+--------------------+---------------+--------------+---------+---------+---------+-------------+---------------------+----------------+-----------+\n",
            "|Alabama|Female|Age 80 or older| White only, Non-H...| NULL|    Very good|               0.0|             0.0|                No|       No|       8.0|               No|        Never smoked|Not at all (right...|             No|            No|       No|       No|       No|           No|                   No|              No|        Yes|\n",
            "|Alabama|Female|Age 80 or older| White only, Non-H...|26.57|    Excellent|               0.0|             0.0|                No|       No|       6.0|               No|        Never smoked|Never used e-ciga...|             No|            No|       No|       No|       No|          Yes|                   No|              No|         No|\n",
            "|Alabama|Female|   Age 55 to 59| White only, Non-H...|25.61|    Very good|               2.0|             3.0|               Yes|       No|       5.0|               No|        Never smoked|Never used e-ciga...|             No|            No|       No|       No|       No|          Yes|                   No|              No|         No|\n",
            "|Alabama|Female|           NULL| White only, Non-H...| 23.3|    Excellent|               0.0|             0.0|               Yes|      Yes|       7.0|               No|Current smoker - ...|Never used e-ciga...|             No|            No|       No|       No|      Yes|           No|                   No|              No|         No|\n",
            "|Alabama|Female|   Age 40 to 44| White only, Non-H...|21.77|         Fair|               2.0|             0.0|               Yes|      Yes|       9.0|               No|        Never smoked|Never used e-ciga...|            Yes|            No|       No|       No|       No|           No|                   No|              No|         No|\n",
            "|Alabama|  Male|Age 80 or older| White only, Non-H...|26.08|         Poor|               1.0|             0.0|                No|       No|       7.0|               No|        Never smoked|Never used e-ciga...|             No|           Yes|       No|      Yes|       No|           No|                   No|              No|        Yes|\n",
            "|Alabama|Female|Age 80 or older| Black only, Non-H...|22.96|    Very good|               0.0|             0.0|               Yes|       No|       7.0|               No|       Former smoker|Never used e-ciga...|            Yes|            No|       No|       No|       No|           No|                   No|              No|         No|\n",
            "|Alabama|Female|Age 80 or older| White only, Non-H...|27.81|         Good|               0.0|             0.0|                No|      Yes|       8.0|               No|        Never smoked|Never used e-ciga...|             No|            No|       No|       No|       No|           No|                   No|              No|         No|\n",
            "|Alabama|Female|   Age 75 to 79| White only, Non-H...| NULL|         Good|               0.0|             0.0|               Yes|     NULL|       6.0|              Yes|       Former smoker|Not at all (right...|             No|            No|       No|       No|       No|          Yes|                   No|              No|         No|\n",
            "|Alabama|Female|   Age 70 to 74| White only, Non-H...|29.05|         Good|               1.0|             0.0|               Yes|     NULL|       7.0|               No|        Never smoked|Never used e-ciga...|            Yes|            No|       No|       No|       No|           No|                   No|             Yes|        Yes|\n",
            "|Alabama|Female|Age 80 or older| White only, Non-H...|29.23|         Fair|               8.0|             9.0|                No|      Yes|       8.0|               No|        Never smoked|Never used e-ciga...|             No|            No|       No|       No|       No|           No|                   No|              No|         No|\n",
            "|Alabama|Female|Age 80 or older| White only, Non-H...|23.21|         Good|               0.0|             0.0|                No|       No|       6.0|               No|        Never smoked|Never used e-ciga...|             No|            No|       No|       No|       No|           No|                   No|              No|         No|\n",
            "|Alabama|  Male|   Age 55 to 59| Black only, Non-H...|28.59|         Fair|               5.0|             0.0|                No|      Yes|       6.0|              Yes|       Former smoker|Never used e-ciga...|            Yes|            No|       No|       No|      Yes|           No|                   No|              No|         No|\n",
            "|Alabama|  Male|   Age 65 to 69| White only, Non-H...|32.78|    Very good|               0.0|             0.0|               Yes|       No|       8.0|               No|        Never smoked|Never used e-ciga...|            Yes|            No|       No|       No|       No|           No|                   No|              No|         No|\n",
            "|Alabama|Female|Age 80 or older| White only, Non-H...|25.34|         Good|              30.0|             5.0|               Yes|      Yes|       8.0|              Yes|        Never smoked|Never used e-ciga...|            Yes|            No|       No|       No|       No|          Yes|                   No|              No|         No|\n",
            "|Alabama|Female|   Age 65 to 69| White only, Non-H...|25.97|    Excellent|               0.0|             0.0|               Yes|       No|       8.0|               No|                NULL|Never used e-ciga...|             No|            No|       No|       No|       No|           No|                   No|              No|         No|\n",
            "|Alabama|Female|           NULL| Black only, Non-H...|24.69|    Excellent|               0.0|             0.0|               Yes|      Yes|       6.0|               No|        Never smoked|Never used e-ciga...|             No|            No|       No|       No|       No|           No|                   No|              No|         No|\n",
            "|Alabama|Female|Age 80 or older| White only, Non-H...|32.28|         Fair|               0.0|            15.0|               Yes|     NULL|       6.0|              Yes|       Former smoker|Never used e-ciga...|             No|            No|       No|       No|      Yes|          Yes|                   No|              No|        Yes|\n",
            "|Alabama|Female|   Age 70 to 74| White only, Non-H...|24.89|         Poor|               0.0|             0.0|               Yes|      Yes|       4.0|               No|        Never smoked|Never used e-ciga...|             No|            No|       No|      Yes|       No|           No|                   No|              No|         No|\n",
            "|Alabama|Female|   Age 60 to 64| White only, Non-H...|22.87|    Very good|               0.0|             0.0|               Yes|       No|       6.0|               No|        Never smoked|Never used e-ciga...|            Yes|            No|       No|       No|       No|          Yes|                   No|              No|         No|\n",
            "+-------+------+---------------+---------------------+-----+-------------+------------------+----------------+------------------+---------+----------+-----------------+--------------------+--------------------+---------------+--------------+---------+---------+---------+-------------+---------------------+----------------+-----------+\n",
            "only showing top 20 rows\n",
            "\n"
          ]
        }
      ],
      "source": [
        "column_order = [\n",
        "        # User Info\n",
        "        'State', 'Sex', 'AgeCategory', 'RaceEthnicityCategory','BMI',\n",
        "        # General health\n",
        "        'GeneralHealth', 'PhysicalHealthDays', 'MentalHealthDays', 'PhysicalActivities', 'ChestScan',\n",
        "        # risks\n",
        "        'SleepHours', 'DifficultyWalking', 'SmokerStatus', 'ECigaretteUsage', 'AlcoholDrinkers',\n",
        "        # Medication History\n",
        "        'HadHeartAttack', 'HadAngina',  'HadStroke', 'HadAsthma',\n",
        "        'HadSkinCancer', 'HadDepressiveDisorder', 'HadKidneyDisease','HadDiabetes',\n",
        "]\n",
        "df = df.select(*column_order)\n",
        "df.show()"
      ]
    },
    {
      "cell_type": "code",
      "execution_count": null,
      "metadata": {
        "colab": {
          "base_uri": "https://localhost:8080/"
        },
        "id": "0nZzPYIPrFCR",
        "outputId": "64f3d0a6-94a7-4df1-b3d5-626449208967"
      },
      "outputs": [
        {
          "name": "stdout",
          "output_type": "stream",
          "text": [
            "+-------+------+---------------+--------------------+-----+---------+--------------+------------+----------------+---------+----------+-----------+--------------------+--------------------+--------+-----------+------+------+------+----------+---------+-------------+--------+\n",
            "|  State|   Sex|            Age|                Race|  BMI|GenHealth|PhysicalHealth|MentalHealth|PhysicalActivity|ChestScan|SleepHours|DiffWalking|             Smoking|     ECigaretteUsage|Drinking|HeartAttack|Angina|Stroke|Asthma|SkinCancer|Depressed|KidneyDisease|Diabetes|\n",
            "+-------+------+---------------+--------------------+-----+---------+--------------+------------+----------------+---------+----------+-----------+--------------------+--------------------+--------+-----------+------+------+------+----------+---------+-------------+--------+\n",
            "|Alabama|Female|Age 80 or older|White only, Non-H...| NULL|Very good|           0.0|         0.0|              No|       No|       8.0|         No|        Never smoked|Not at all (right...|      No|         No|    No|    No|    No|        No|       No|           No|     Yes|\n",
            "|Alabama|Female|Age 80 or older|White only, Non-H...|26.57|Excellent|           0.0|         0.0|              No|       No|       6.0|         No|        Never smoked|Never used e-ciga...|      No|         No|    No|    No|    No|       Yes|       No|           No|      No|\n",
            "|Alabama|Female|   Age 55 to 59|White only, Non-H...|25.61|Very good|           2.0|         3.0|             Yes|       No|       5.0|         No|        Never smoked|Never used e-ciga...|      No|         No|    No|    No|    No|       Yes|       No|           No|      No|\n",
            "|Alabama|Female|           NULL|White only, Non-H...| 23.3|Excellent|           0.0|         0.0|             Yes|      Yes|       7.0|         No|Current smoker - ...|Never used e-ciga...|      No|         No|    No|    No|   Yes|        No|       No|           No|      No|\n",
            "|Alabama|Female|   Age 40 to 44|White only, Non-H...|21.77|     Fair|           2.0|         0.0|             Yes|      Yes|       9.0|         No|        Never smoked|Never used e-ciga...|     Yes|         No|    No|    No|    No|        No|       No|           No|      No|\n",
            "|Alabama|  Male|Age 80 or older|White only, Non-H...|26.08|     Poor|           1.0|         0.0|              No|       No|       7.0|         No|        Never smoked|Never used e-ciga...|      No|        Yes|    No|   Yes|    No|        No|       No|           No|     Yes|\n",
            "|Alabama|Female|Age 80 or older|Black only, Non-H...|22.96|Very good|           0.0|         0.0|             Yes|       No|       7.0|         No|       Former smoker|Never used e-ciga...|     Yes|         No|    No|    No|    No|        No|       No|           No|      No|\n",
            "|Alabama|Female|Age 80 or older|White only, Non-H...|27.81|     Good|           0.0|         0.0|              No|      Yes|       8.0|         No|        Never smoked|Never used e-ciga...|      No|         No|    No|    No|    No|        No|       No|           No|      No|\n",
            "|Alabama|Female|   Age 75 to 79|White only, Non-H...| NULL|     Good|           0.0|         0.0|             Yes|     NULL|       6.0|        Yes|       Former smoker|Not at all (right...|      No|         No|    No|    No|    No|       Yes|       No|           No|      No|\n",
            "|Alabama|Female|   Age 70 to 74|White only, Non-H...|29.05|     Good|           1.0|         0.0|             Yes|     NULL|       7.0|         No|        Never smoked|Never used e-ciga...|     Yes|         No|    No|    No|    No|        No|       No|          Yes|     Yes|\n",
            "|Alabama|Female|Age 80 or older|White only, Non-H...|29.23|     Fair|           8.0|         9.0|              No|      Yes|       8.0|         No|        Never smoked|Never used e-ciga...|      No|         No|    No|    No|    No|        No|       No|           No|      No|\n",
            "|Alabama|Female|Age 80 or older|White only, Non-H...|23.21|     Good|           0.0|         0.0|              No|       No|       6.0|         No|        Never smoked|Never used e-ciga...|      No|         No|    No|    No|    No|        No|       No|           No|      No|\n",
            "|Alabama|  Male|   Age 55 to 59|Black only, Non-H...|28.59|     Fair|           5.0|         0.0|              No|      Yes|       6.0|        Yes|       Former smoker|Never used e-ciga...|     Yes|         No|    No|    No|   Yes|        No|       No|           No|      No|\n",
            "|Alabama|  Male|   Age 65 to 69|White only, Non-H...|32.78|Very good|           0.0|         0.0|             Yes|       No|       8.0|         No|        Never smoked|Never used e-ciga...|     Yes|         No|    No|    No|    No|        No|       No|           No|      No|\n",
            "|Alabama|Female|Age 80 or older|White only, Non-H...|25.34|     Good|          30.0|         5.0|             Yes|      Yes|       8.0|        Yes|        Never smoked|Never used e-ciga...|     Yes|         No|    No|    No|    No|       Yes|       No|           No|      No|\n",
            "|Alabama|Female|   Age 65 to 69|White only, Non-H...|25.97|Excellent|           0.0|         0.0|             Yes|       No|       8.0|         No|                NULL|Never used e-ciga...|      No|         No|    No|    No|    No|        No|       No|           No|      No|\n",
            "|Alabama|Female|           NULL|Black only, Non-H...|24.69|Excellent|           0.0|         0.0|             Yes|      Yes|       6.0|         No|        Never smoked|Never used e-ciga...|      No|         No|    No|    No|    No|        No|       No|           No|      No|\n",
            "|Alabama|Female|Age 80 or older|White only, Non-H...|32.28|     Fair|           0.0|        15.0|             Yes|     NULL|       6.0|        Yes|       Former smoker|Never used e-ciga...|      No|         No|    No|    No|   Yes|       Yes|       No|           No|     Yes|\n",
            "|Alabama|Female|   Age 70 to 74|White only, Non-H...|24.89|     Poor|           0.0|         0.0|             Yes|      Yes|       4.0|         No|        Never smoked|Never used e-ciga...|      No|         No|    No|   Yes|    No|        No|       No|           No|      No|\n",
            "|Alabama|Female|   Age 60 to 64|White only, Non-H...|22.87|Very good|           0.0|         0.0|             Yes|       No|       6.0|         No|        Never smoked|Never used e-ciga...|     Yes|         No|    No|    No|    No|       Yes|       No|           No|      No|\n",
            "+-------+------+---------------+--------------------+-----+---------+--------------+------------+----------------+---------+----------+-----------+--------------------+--------------------+--------+-----------+------+------+------+----------+---------+-------------+--------+\n",
            "only showing top 20 rows\n",
            "\n"
          ]
        }
      ],
      "source": [
        "rename_mapping = {\n",
        "    'AgeCategory': \"Age\",\n",
        "    'RaceEthnicityCategory': \"Race\",\n",
        "    'GeneralHealth': \"GenHealth\",\n",
        "    'PhysicalHealthDays': \"PhysicalHealth\",\n",
        "    'PhysicalActivities': \"PhysicalActivity\",\n",
        "    'MentalHealthDays': \"MentalHealth\",\n",
        "    'HadAngina': \"Angina\",\n",
        "    'HadHeartAttack': \"HeartAttack\",\n",
        "    'HadStroke': \"Stroke\",\n",
        "    'HadAsthma': \"Asthma\",\n",
        "    'HadSkinCancer': \"SkinCancer\",\n",
        "    'HadDepressiveDisorder': \"Depressed\",\n",
        "    'HadKidneyDisease': \"KidneyDisease\",\n",
        "    'DifficultyWalking': \"DiffWalking\",\n",
        "    'HadDiabetes': \"Diabetes\",\n",
        "    'SmokerStatus': \"Smoking\",\n",
        "    'AlcoholDrinkers': \"Drinking\"\n",
        "}\n",
        "\n",
        "for name, rename in rename_mapping.items():\n",
        "    df = df.withColumnRenamed(name, rename)\n",
        "\n",
        "df.show()"
      ]
    },
    {
      "cell_type": "code",
      "execution_count": null,
      "metadata": {
        "colab": {
          "base_uri": "https://localhost:8080/"
        },
        "id": "JLnl9Bmqr6zR",
        "outputId": "f8cf174f-8363-4dc1-d01e-2f2253cf95cf"
      },
      "outputs": [
        {
          "name": "stdout",
          "output_type": "stream",
          "text": [
            "NaN Value Distribution:\n",
            "State: 445132\n"
          ]
        }
      ],
      "source": [
        "from pyspark.sql.functions import col\n",
        "\n",
        "# Count NaN values for each column\n",
        "nan_counts = df.select([col(c).isNull().alias(c) for c in df.columns]) \\\n",
        "               .groupBy() \\\n",
        "               .count() \\\n",
        "               .collect()[0]\n",
        "\n",
        "# Display NaN counts\n",
        "print(\"NaN Value Distribution:\")\n",
        "for col_name, nan_count in zip(df.columns, nan_counts):\n",
        "    print(f\"{col_name}: {nan_count}\")"
      ]
    },
    {
      "cell_type": "code",
      "execution_count": null,
      "metadata": {
        "colab": {
          "base_uri": "https://localhost:8080/"
        },
        "id": "Brp8tZCyslWZ",
        "outputId": "9d9736e8-b9de-4c6f-b376-95ae496ee6a9"
      },
      "outputs": [
        {
          "name": "stdout",
          "output_type": "stream",
          "text": [
            "+-------+------+---------------+--------------------+-----+---------+--------------+------------+----------------+---------+----------+-----------+--------------------+--------------------+--------+-----------+------+------+------+----------+---------+-------------+--------+\n",
            "|  State|   Sex|            Age|                Race|  BMI|GenHealth|PhysicalHealth|MentalHealth|PhysicalActivity|ChestScan|SleepHours|DiffWalking|             Smoking|     ECigaretteUsage|Drinking|HeartAttack|Angina|Stroke|Asthma|SkinCancer|Depressed|KidneyDisease|Diabetes|\n",
            "+-------+------+---------------+--------------------+-----+---------+--------------+------------+----------------+---------+----------+-----------+--------------------+--------------------+--------+-----------+------+------+------+----------+---------+-------------+--------+\n",
            "|Alabama|Female|Age 80 or older|White only, Non-H...|26.57|Excellent|           0.0|         0.0|              No|       No|       6.0|         No|        Never smoked|Never used e-ciga...|      No|         No|    No|    No|    No|       Yes|       No|           No|      No|\n",
            "|Alabama|Female|   Age 55 to 59|White only, Non-H...|25.61|Very good|           2.0|         3.0|             Yes|       No|       5.0|         No|        Never smoked|Never used e-ciga...|      No|         No|    No|    No|    No|       Yes|       No|           No|      No|\n",
            "|Alabama|Female|   Age 40 to 44|White only, Non-H...|21.77|     Fair|           2.0|         0.0|             Yes|      Yes|       9.0|         No|        Never smoked|Never used e-ciga...|     Yes|         No|    No|    No|    No|        No|       No|           No|      No|\n",
            "|Alabama|  Male|Age 80 or older|White only, Non-H...|26.08|     Poor|           1.0|         0.0|              No|       No|       7.0|         No|        Never smoked|Never used e-ciga...|      No|        Yes|    No|   Yes|    No|        No|       No|           No|     Yes|\n",
            "|Alabama|Female|Age 80 or older|Black only, Non-H...|22.96|Very good|           0.0|         0.0|             Yes|       No|       7.0|         No|       Former smoker|Never used e-ciga...|     Yes|         No|    No|    No|    No|        No|       No|           No|      No|\n",
            "|Alabama|Female|Age 80 or older|White only, Non-H...|27.81|     Good|           0.0|         0.0|              No|      Yes|       8.0|         No|        Never smoked|Never used e-ciga...|      No|         No|    No|    No|    No|        No|       No|           No|      No|\n",
            "|Alabama|Female|Age 80 or older|White only, Non-H...|29.23|     Fair|           8.0|         9.0|              No|      Yes|       8.0|         No|        Never smoked|Never used e-ciga...|      No|         No|    No|    No|    No|        No|       No|           No|      No|\n",
            "|Alabama|Female|Age 80 or older|White only, Non-H...|23.21|     Good|           0.0|         0.0|              No|       No|       6.0|         No|        Never smoked|Never used e-ciga...|      No|         No|    No|    No|    No|        No|       No|           No|      No|\n",
            "|Alabama|  Male|   Age 55 to 59|Black only, Non-H...|28.59|     Fair|           5.0|         0.0|              No|      Yes|       6.0|        Yes|       Former smoker|Never used e-ciga...|     Yes|         No|    No|    No|   Yes|        No|       No|           No|      No|\n",
            "|Alabama|  Male|   Age 65 to 69|White only, Non-H...|32.78|Very good|           0.0|         0.0|             Yes|       No|       8.0|         No|        Never smoked|Never used e-ciga...|     Yes|         No|    No|    No|    No|        No|       No|           No|      No|\n",
            "|Alabama|Female|Age 80 or older|White only, Non-H...|25.34|     Good|          30.0|         5.0|             Yes|      Yes|       8.0|        Yes|        Never smoked|Never used e-ciga...|     Yes|         No|    No|    No|    No|       Yes|       No|           No|      No|\n",
            "|Alabama|Female|   Age 70 to 74|White only, Non-H...|24.89|     Poor|           0.0|         0.0|             Yes|      Yes|       4.0|         No|        Never smoked|Never used e-ciga...|      No|         No|    No|   Yes|    No|        No|       No|           No|      No|\n",
            "|Alabama|Female|   Age 60 to 64|White only, Non-H...|22.87|Very good|           0.0|         0.0|             Yes|       No|       6.0|         No|        Never smoked|Never used e-ciga...|     Yes|         No|    No|    No|    No|       Yes|       No|           No|      No|\n",
            "|Alabama|Female|   Age 60 to 64|Black only, Non-H...|32.37|Very good|           4.0|         5.0|             Yes|      Yes|       6.0|         No|        Never smoked|Never used e-ciga...|      No|         No|    No|    No|    No|        No|      Yes|           No|      No|\n",
            "|Alabama|  Male|Age 80 or older|White only, Non-H...| 26.5|     Good|           0.0|         0.0|             Yes|      Yes|       9.0|         No|        Never smoked|Never used e-ciga...|      No|         No|    No|    No|    No|       Yes|       No|           No|      No|\n",
            "|Alabama|Female|Age 80 or older|White only, Non-H...|44.59|     Poor|          30.0|         0.0|              No|       No|       8.0|        Yes|        Never smoked|Never used e-ciga...|      No|         No|    No|    No|    No|       Yes|       No|          Yes|      No|\n",
            "|Alabama|  Male|   Age 65 to 69|White only, Non-H...|24.34|Excellent|           0.0|         0.0|             Yes|      Yes|       8.0|         No|        Never smoked|Never used e-ciga...|      No|         No|    No|    No|    No|       Yes|       No|           No|      No|\n",
            "|Alabama|Female|   Age 75 to 79|White only, Non-H...|21.63|Very good|           0.0|         0.0|             Yes|       No|       6.0|         No|        Never smoked|Never used e-ciga...|      No|         No|    No|    No|    No|       Yes|       No|           No|      No|\n",
            "|Alabama|Female|   Age 65 to 69|Black only, Non-H...|37.45|     Fair|          23.0|         3.0|             Yes|      Yes|       8.0|         No|Current smoker - ...|Never used e-ciga...|     Yes|        Yes|   Yes|    No|    No|        No|       No|           No|     Yes|\n",
            "|Alabama|Female|   Age 75 to 79|White only, Non-H...|31.09|Very good|           0.0|         3.0|              No|      Yes|       8.0|         No|        Never smoked|Never used e-ciga...|      No|         No|    No|    No|    No|        No|      Yes|           No|      No|\n",
            "+-------+------+---------------+--------------------+-----+---------+--------------+------------+----------------+---------+----------+-----------+--------------------+--------------------+--------+-----------+------+------+------+----------+---------+-------------+--------+\n",
            "only showing top 20 rows\n",
            "\n"
          ]
        }
      ],
      "source": [
        "# Drop rows with NaN values\n",
        "df1 = df.dropna()\n",
        "\n",
        "# Show DataFrame after dropping NaN values\n",
        "df1.show()"
      ]
    },
    {
      "cell_type": "code",
      "execution_count": null,
      "metadata": {
        "colab": {
          "base_uri": "https://localhost:8080/"
        },
        "id": "TO_IcIhXtC9M",
        "outputId": "0ef0482e-a065-40c4-ae7e-9c1e896ba03c"
      },
      "outputs": [
        {
          "data": {
            "text/plain": [
              "[('State', 'string'),\n",
              " ('Sex', 'string'),\n",
              " ('Age', 'string'),\n",
              " ('Race', 'string'),\n",
              " ('BMI', 'string'),\n",
              " ('GenHealth', 'string'),\n",
              " ('PhysicalHealth', 'string'),\n",
              " ('MentalHealth', 'string'),\n",
              " ('PhysicalActivity', 'string'),\n",
              " ('ChestScan', 'string'),\n",
              " ('SleepHours', 'string'),\n",
              " ('DiffWalking', 'string'),\n",
              " ('Smoking', 'string'),\n",
              " ('ECigaretteUsage', 'string'),\n",
              " ('Drinking', 'string'),\n",
              " ('HeartAttack', 'string'),\n",
              " ('Angina', 'string'),\n",
              " ('Stroke', 'string'),\n",
              " ('Asthma', 'string'),\n",
              " ('SkinCancer', 'string'),\n",
              " ('Depressed', 'string'),\n",
              " ('KidneyDisease', 'string'),\n",
              " ('Diabetes', 'string')]"
            ]
          },
          "execution_count": 16,
          "metadata": {},
          "output_type": "execute_result"
        }
      ],
      "source": [
        "df1.dtypes"
      ]
    },
    {
      "cell_type": "code",
      "execution_count": null,
      "metadata": {
        "id": "nsC1wGfJu55U"
      },
      "outputs": [],
      "source": [
        "# Create a temporary view of the Dataframe\n",
        "df1.createOrReplaceTempView(\"heart_data\")"
      ]
    },
    {
      "cell_type": "code",
      "execution_count": null,
      "metadata": {
        "colab": {
          "base_uri": "https://localhost:8080/"
        },
        "id": "Nj2bloKCvN3-",
        "outputId": "8accd8f2-1dd2-48b6-cb56-3ddef87c6c77"
      },
      "outputs": [
        {
          "name": "stdout",
          "output_type": "stream",
          "text": [
            "+--------------+-------------+\n",
            "|yes_percentage|no_percentage|\n",
            "+--------------+-------------+\n",
            "|          5.31|        94.69|\n",
            "+--------------+-------------+\n",
            "\n"
          ]
        }
      ],
      "source": [
        "# SQL query to calculate percentage of 'Yes' and 'No' in 'HeartAttack' column\n",
        "# Use Spark SQL query to count the occurrences of each value and then calculate the percentages.\n",
        "\n",
        "heart_attack_percentages = spark.sql(\"\"\"\n",
        "    SELECT ROUND(COUNT(CASE WHEN HeartAttack = 'Yes' THEN 1 END) / COUNT(*) * 100, 2) AS yes_percentage,\n",
        "           ROUND(COUNT(CASE WHEN HeartAttack = 'No' THEN 1 END) / COUNT(*) * 100, 2) AS no_percentage\n",
        "    FROM heart_data\n",
        "\"\"\")\n",
        "\n",
        "# Show the result\n",
        "heart_attack_percentages.show()"
      ]
    },
    {
      "cell_type": "markdown",
      "metadata": {
        "id": "dO0pdWQSUexD"
      },
      "source": [
        "# Converting PySpark DataFrame to Pandas DataFrame"
      ]
    },
    {
      "cell_type": "code",
      "execution_count": null,
      "metadata": {
        "id": "Z-0pF6RVUexE"
      },
      "outputs": [],
      "source": [
        "import pandas as pd\n",
        "pandas_df = df1.toPandas()"
      ]
    },
    {
      "cell_type": "code",
      "execution_count": null,
      "metadata": {
        "colab": {
          "base_uri": "https://localhost:8080/",
          "height": 830
        },
        "id": "9XMUMESlUexI",
        "outputId": "dfe40b2b-bc83-4b47-f8dc-9f34077e704c"
      },
      "outputs": [
        {
          "data": {
            "application/vnd.google.colaboratory.intrinsic+json": {
              "type": "dataframe",
              "variable_name": "pandas_df"
            },
            "text/html": [
              "\n",
              "  <div id=\"df-8af2a1c7-f4ca-4e2a-9c5e-ceb82c1b3ed0\" class=\"colab-df-container\">\n",
              "    <div>\n",
              "<style scoped>\n",
              "    .dataframe tbody tr th:only-of-type {\n",
              "        vertical-align: middle;\n",
              "    }\n",
              "\n",
              "    .dataframe tbody tr th {\n",
              "        vertical-align: top;\n",
              "    }\n",
              "\n",
              "    .dataframe thead th {\n",
              "        text-align: right;\n",
              "    }\n",
              "</style>\n",
              "<table border=\"1\" class=\"dataframe\">\n",
              "  <thead>\n",
              "    <tr style=\"text-align: right;\">\n",
              "      <th></th>\n",
              "      <th>State</th>\n",
              "      <th>Sex</th>\n",
              "      <th>Age</th>\n",
              "      <th>Race</th>\n",
              "      <th>BMI</th>\n",
              "      <th>GenHealth</th>\n",
              "      <th>PhysicalHealth</th>\n",
              "      <th>MentalHealth</th>\n",
              "      <th>PhysicalActivity</th>\n",
              "      <th>ChestScan</th>\n",
              "      <th>...</th>\n",
              "      <th>ECigaretteUsage</th>\n",
              "      <th>Drinking</th>\n",
              "      <th>HeartAttack</th>\n",
              "      <th>Angina</th>\n",
              "      <th>Stroke</th>\n",
              "      <th>Asthma</th>\n",
              "      <th>SkinCancer</th>\n",
              "      <th>Depressed</th>\n",
              "      <th>KidneyDisease</th>\n",
              "      <th>Diabetes</th>\n",
              "    </tr>\n",
              "  </thead>\n",
              "  <tbody>\n",
              "    <tr>\n",
              "      <th>0</th>\n",
              "      <td>Alabama</td>\n",
              "      <td>Female</td>\n",
              "      <td>Age 80 or older</td>\n",
              "      <td>White only, Non-Hispanic</td>\n",
              "      <td>26.57</td>\n",
              "      <td>Excellent</td>\n",
              "      <td>0.0</td>\n",
              "      <td>0.0</td>\n",
              "      <td>No</td>\n",
              "      <td>No</td>\n",
              "      <td>...</td>\n",
              "      <td>Never used e-cigarettes in my entire life</td>\n",
              "      <td>No</td>\n",
              "      <td>No</td>\n",
              "      <td>No</td>\n",
              "      <td>No</td>\n",
              "      <td>No</td>\n",
              "      <td>Yes</td>\n",
              "      <td>No</td>\n",
              "      <td>No</td>\n",
              "      <td>No</td>\n",
              "    </tr>\n",
              "    <tr>\n",
              "      <th>1</th>\n",
              "      <td>Alabama</td>\n",
              "      <td>Female</td>\n",
              "      <td>Age 55 to 59</td>\n",
              "      <td>White only, Non-Hispanic</td>\n",
              "      <td>25.61</td>\n",
              "      <td>Very good</td>\n",
              "      <td>2.0</td>\n",
              "      <td>3.0</td>\n",
              "      <td>Yes</td>\n",
              "      <td>No</td>\n",
              "      <td>...</td>\n",
              "      <td>Never used e-cigarettes in my entire life</td>\n",
              "      <td>No</td>\n",
              "      <td>No</td>\n",
              "      <td>No</td>\n",
              "      <td>No</td>\n",
              "      <td>No</td>\n",
              "      <td>Yes</td>\n",
              "      <td>No</td>\n",
              "      <td>No</td>\n",
              "      <td>No</td>\n",
              "    </tr>\n",
              "    <tr>\n",
              "      <th>2</th>\n",
              "      <td>Alabama</td>\n",
              "      <td>Female</td>\n",
              "      <td>Age 40 to 44</td>\n",
              "      <td>White only, Non-Hispanic</td>\n",
              "      <td>21.77</td>\n",
              "      <td>Fair</td>\n",
              "      <td>2.0</td>\n",
              "      <td>0.0</td>\n",
              "      <td>Yes</td>\n",
              "      <td>Yes</td>\n",
              "      <td>...</td>\n",
              "      <td>Never used e-cigarettes in my entire life</td>\n",
              "      <td>Yes</td>\n",
              "      <td>No</td>\n",
              "      <td>No</td>\n",
              "      <td>No</td>\n",
              "      <td>No</td>\n",
              "      <td>No</td>\n",
              "      <td>No</td>\n",
              "      <td>No</td>\n",
              "      <td>No</td>\n",
              "    </tr>\n",
              "    <tr>\n",
              "      <th>3</th>\n",
              "      <td>Alabama</td>\n",
              "      <td>Male</td>\n",
              "      <td>Age 80 or older</td>\n",
              "      <td>White only, Non-Hispanic</td>\n",
              "      <td>26.08</td>\n",
              "      <td>Poor</td>\n",
              "      <td>1.0</td>\n",
              "      <td>0.0</td>\n",
              "      <td>No</td>\n",
              "      <td>No</td>\n",
              "      <td>...</td>\n",
              "      <td>Never used e-cigarettes in my entire life</td>\n",
              "      <td>No</td>\n",
              "      <td>Yes</td>\n",
              "      <td>No</td>\n",
              "      <td>Yes</td>\n",
              "      <td>No</td>\n",
              "      <td>No</td>\n",
              "      <td>No</td>\n",
              "      <td>No</td>\n",
              "      <td>Yes</td>\n",
              "    </tr>\n",
              "    <tr>\n",
              "      <th>4</th>\n",
              "      <td>Alabama</td>\n",
              "      <td>Female</td>\n",
              "      <td>Age 80 or older</td>\n",
              "      <td>Black only, Non-Hispanic</td>\n",
              "      <td>22.96</td>\n",
              "      <td>Very good</td>\n",
              "      <td>0.0</td>\n",
              "      <td>0.0</td>\n",
              "      <td>Yes</td>\n",
              "      <td>No</td>\n",
              "      <td>...</td>\n",
              "      <td>Never used e-cigarettes in my entire life</td>\n",
              "      <td>Yes</td>\n",
              "      <td>No</td>\n",
              "      <td>No</td>\n",
              "      <td>No</td>\n",
              "      <td>No</td>\n",
              "      <td>No</td>\n",
              "      <td>No</td>\n",
              "      <td>No</td>\n",
              "      <td>No</td>\n",
              "    </tr>\n",
              "    <tr>\n",
              "      <th>...</th>\n",
              "      <td>...</td>\n",
              "      <td>...</td>\n",
              "      <td>...</td>\n",
              "      <td>...</td>\n",
              "      <td>...</td>\n",
              "      <td>...</td>\n",
              "      <td>...</td>\n",
              "      <td>...</td>\n",
              "      <td>...</td>\n",
              "      <td>...</td>\n",
              "      <td>...</td>\n",
              "      <td>...</td>\n",
              "      <td>...</td>\n",
              "      <td>...</td>\n",
              "      <td>...</td>\n",
              "      <td>...</td>\n",
              "      <td>...</td>\n",
              "      <td>...</td>\n",
              "      <td>...</td>\n",
              "      <td>...</td>\n",
              "      <td>...</td>\n",
              "    </tr>\n",
              "    <tr>\n",
              "      <th>318929</th>\n",
              "      <td>Virgin Islands</td>\n",
              "      <td>Male</td>\n",
              "      <td>Age 65 to 69</td>\n",
              "      <td>Multiracial, Non-Hispanic</td>\n",
              "      <td>29.86</td>\n",
              "      <td>Good</td>\n",
              "      <td>0.0</td>\n",
              "      <td>15.0</td>\n",
              "      <td>Yes</td>\n",
              "      <td>No</td>\n",
              "      <td>...</td>\n",
              "      <td>Never used e-cigarettes in my entire life</td>\n",
              "      <td>Yes</td>\n",
              "      <td>No</td>\n",
              "      <td>No</td>\n",
              "      <td>Yes</td>\n",
              "      <td>No</td>\n",
              "      <td>No</td>\n",
              "      <td>No</td>\n",
              "      <td>No</td>\n",
              "      <td>Yes</td>\n",
              "    </tr>\n",
              "    <tr>\n",
              "      <th>318930</th>\n",
              "      <td>Virgin Islands</td>\n",
              "      <td>Male</td>\n",
              "      <td>Age 30 to 34</td>\n",
              "      <td>White only, Non-Hispanic</td>\n",
              "      <td>31.19</td>\n",
              "      <td>Good</td>\n",
              "      <td>0.0</td>\n",
              "      <td>0.0</td>\n",
              "      <td>Yes</td>\n",
              "      <td>No</td>\n",
              "      <td>...</td>\n",
              "      <td>Never used e-cigarettes in my entire life</td>\n",
              "      <td>Yes</td>\n",
              "      <td>No</td>\n",
              "      <td>No</td>\n",
              "      <td>No</td>\n",
              "      <td>No</td>\n",
              "      <td>No</td>\n",
              "      <td>No</td>\n",
              "      <td>No</td>\n",
              "      <td>No</td>\n",
              "    </tr>\n",
              "    <tr>\n",
              "      <th>318931</th>\n",
              "      <td>Virgin Islands</td>\n",
              "      <td>Female</td>\n",
              "      <td>Age 50 to 54</td>\n",
              "      <td>Black only, Non-Hispanic</td>\n",
              "      <td>28.66</td>\n",
              "      <td>Excellent</td>\n",
              "      <td>2.0</td>\n",
              "      <td>2.0</td>\n",
              "      <td>Yes</td>\n",
              "      <td>No</td>\n",
              "      <td>...</td>\n",
              "      <td>Never used e-cigarettes in my entire life</td>\n",
              "      <td>No</td>\n",
              "      <td>No</td>\n",
              "      <td>No</td>\n",
              "      <td>No</td>\n",
              "      <td>No</td>\n",
              "      <td>No</td>\n",
              "      <td>No</td>\n",
              "      <td>No</td>\n",
              "      <td>No</td>\n",
              "    </tr>\n",
              "    <tr>\n",
              "      <th>318932</th>\n",
              "      <td>Virgin Islands</td>\n",
              "      <td>Male</td>\n",
              "      <td>Age 70 to 74</td>\n",
              "      <td>Black only, Non-Hispanic</td>\n",
              "      <td>32.55</td>\n",
              "      <td>Very good</td>\n",
              "      <td>0.0</td>\n",
              "      <td>0.0</td>\n",
              "      <td>No</td>\n",
              "      <td>Yes</td>\n",
              "      <td>...</td>\n",
              "      <td>Never used e-cigarettes in my entire life</td>\n",
              "      <td>No</td>\n",
              "      <td>Yes</td>\n",
              "      <td>No</td>\n",
              "      <td>No</td>\n",
              "      <td>Yes</td>\n",
              "      <td>No</td>\n",
              "      <td>No</td>\n",
              "      <td>No</td>\n",
              "      <td>No</td>\n",
              "    </tr>\n",
              "    <tr>\n",
              "      <th>318933</th>\n",
              "      <td>Virgin Islands</td>\n",
              "      <td>Male</td>\n",
              "      <td>Age 40 to 44</td>\n",
              "      <td>Black only, Non-Hispanic</td>\n",
              "      <td>22.6</td>\n",
              "      <td>Very good</td>\n",
              "      <td>0.0</td>\n",
              "      <td>1.0</td>\n",
              "      <td>Yes</td>\n",
              "      <td>Yes</td>\n",
              "      <td>...</td>\n",
              "      <td>Not at all (right now)</td>\n",
              "      <td>Yes</td>\n",
              "      <td>No</td>\n",
              "      <td>No</td>\n",
              "      <td>No</td>\n",
              "      <td>No</td>\n",
              "      <td>No</td>\n",
              "      <td>No</td>\n",
              "      <td>No</td>\n",
              "      <td>No</td>\n",
              "    </tr>\n",
              "  </tbody>\n",
              "</table>\n",
              "<p>318934 rows × 23 columns</p>\n",
              "</div>\n",
              "    <div class=\"colab-df-buttons\">\n",
              "\n",
              "  <div class=\"colab-df-container\">\n",
              "    <button class=\"colab-df-convert\" onclick=\"convertToInteractive('df-8af2a1c7-f4ca-4e2a-9c5e-ceb82c1b3ed0')\"\n",
              "            title=\"Convert this dataframe to an interactive table.\"\n",
              "            style=\"display:none;\">\n",
              "\n",
              "  <svg xmlns=\"http://www.w3.org/2000/svg\" height=\"24px\" viewBox=\"0 -960 960 960\">\n",
              "    <path d=\"M120-120v-720h720v720H120Zm60-500h600v-160H180v160Zm220 220h160v-160H400v160Zm0 220h160v-160H400v160ZM180-400h160v-160H180v160Zm440 0h160v-160H620v160ZM180-180h160v-160H180v160Zm440 0h160v-160H620v160Z\"/>\n",
              "  </svg>\n",
              "    </button>\n",
              "\n",
              "  <style>\n",
              "    .colab-df-container {\n",
              "      display:flex;\n",
              "      gap: 12px;\n",
              "    }\n",
              "\n",
              "    .colab-df-convert {\n",
              "      background-color: #E8F0FE;\n",
              "      border: none;\n",
              "      border-radius: 50%;\n",
              "      cursor: pointer;\n",
              "      display: none;\n",
              "      fill: #1967D2;\n",
              "      height: 32px;\n",
              "      padding: 0 0 0 0;\n",
              "      width: 32px;\n",
              "    }\n",
              "\n",
              "    .colab-df-convert:hover {\n",
              "      background-color: #E2EBFA;\n",
              "      box-shadow: 0px 1px 2px rgba(60, 64, 67, 0.3), 0px 1px 3px 1px rgba(60, 64, 67, 0.15);\n",
              "      fill: #174EA6;\n",
              "    }\n",
              "\n",
              "    .colab-df-buttons div {\n",
              "      margin-bottom: 4px;\n",
              "    }\n",
              "\n",
              "    [theme=dark] .colab-df-convert {\n",
              "      background-color: #3B4455;\n",
              "      fill: #D2E3FC;\n",
              "    }\n",
              "\n",
              "    [theme=dark] .colab-df-convert:hover {\n",
              "      background-color: #434B5C;\n",
              "      box-shadow: 0px 1px 3px 1px rgba(0, 0, 0, 0.15);\n",
              "      filter: drop-shadow(0px 1px 2px rgba(0, 0, 0, 0.3));\n",
              "      fill: #FFFFFF;\n",
              "    }\n",
              "  </style>\n",
              "\n",
              "    <script>\n",
              "      const buttonEl =\n",
              "        document.querySelector('#df-8af2a1c7-f4ca-4e2a-9c5e-ceb82c1b3ed0 button.colab-df-convert');\n",
              "      buttonEl.style.display =\n",
              "        google.colab.kernel.accessAllowed ? 'block' : 'none';\n",
              "\n",
              "      async function convertToInteractive(key) {\n",
              "        const element = document.querySelector('#df-8af2a1c7-f4ca-4e2a-9c5e-ceb82c1b3ed0');\n",
              "        const dataTable =\n",
              "          await google.colab.kernel.invokeFunction('convertToInteractive',\n",
              "                                                    [key], {});\n",
              "        if (!dataTable) return;\n",
              "\n",
              "        const docLinkHtml = 'Like what you see? Visit the ' +\n",
              "          '<a target=\"_blank\" href=https://colab.research.google.com/notebooks/data_table.ipynb>data table notebook</a>'\n",
              "          + ' to learn more about interactive tables.';\n",
              "        element.innerHTML = '';\n",
              "        dataTable['output_type'] = 'display_data';\n",
              "        await google.colab.output.renderOutput(dataTable, element);\n",
              "        const docLink = document.createElement('div');\n",
              "        docLink.innerHTML = docLinkHtml;\n",
              "        element.appendChild(docLink);\n",
              "      }\n",
              "    </script>\n",
              "  </div>\n",
              "\n",
              "\n",
              "<div id=\"df-b47f484a-d78e-462b-a08e-47c7ee53c5c5\">\n",
              "  <button class=\"colab-df-quickchart\" onclick=\"quickchart('df-b47f484a-d78e-462b-a08e-47c7ee53c5c5')\"\n",
              "            title=\"Suggest charts\"\n",
              "            style=\"display:none;\">\n",
              "\n",
              "<svg xmlns=\"http://www.w3.org/2000/svg\" height=\"24px\"viewBox=\"0 0 24 24\"\n",
              "     width=\"24px\">\n",
              "    <g>\n",
              "        <path d=\"M19 3H5c-1.1 0-2 .9-2 2v14c0 1.1.9 2 2 2h14c1.1 0 2-.9 2-2V5c0-1.1-.9-2-2-2zM9 17H7v-7h2v7zm4 0h-2V7h2v10zm4 0h-2v-4h2v4z\"/>\n",
              "    </g>\n",
              "</svg>\n",
              "  </button>\n",
              "\n",
              "<style>\n",
              "  .colab-df-quickchart {\n",
              "      --bg-color: #E8F0FE;\n",
              "      --fill-color: #1967D2;\n",
              "      --hover-bg-color: #E2EBFA;\n",
              "      --hover-fill-color: #174EA6;\n",
              "      --disabled-fill-color: #AAA;\n",
              "      --disabled-bg-color: #DDD;\n",
              "  }\n",
              "\n",
              "  [theme=dark] .colab-df-quickchart {\n",
              "      --bg-color: #3B4455;\n",
              "      --fill-color: #D2E3FC;\n",
              "      --hover-bg-color: #434B5C;\n",
              "      --hover-fill-color: #FFFFFF;\n",
              "      --disabled-bg-color: #3B4455;\n",
              "      --disabled-fill-color: #666;\n",
              "  }\n",
              "\n",
              "  .colab-df-quickchart {\n",
              "    background-color: var(--bg-color);\n",
              "    border: none;\n",
              "    border-radius: 50%;\n",
              "    cursor: pointer;\n",
              "    display: none;\n",
              "    fill: var(--fill-color);\n",
              "    height: 32px;\n",
              "    padding: 0;\n",
              "    width: 32px;\n",
              "  }\n",
              "\n",
              "  .colab-df-quickchart:hover {\n",
              "    background-color: var(--hover-bg-color);\n",
              "    box-shadow: 0 1px 2px rgba(60, 64, 67, 0.3), 0 1px 3px 1px rgba(60, 64, 67, 0.15);\n",
              "    fill: var(--button-hover-fill-color);\n",
              "  }\n",
              "\n",
              "  .colab-df-quickchart-complete:disabled,\n",
              "  .colab-df-quickchart-complete:disabled:hover {\n",
              "    background-color: var(--disabled-bg-color);\n",
              "    fill: var(--disabled-fill-color);\n",
              "    box-shadow: none;\n",
              "  }\n",
              "\n",
              "  .colab-df-spinner {\n",
              "    border: 2px solid var(--fill-color);\n",
              "    border-color: transparent;\n",
              "    border-bottom-color: var(--fill-color);\n",
              "    animation:\n",
              "      spin 1s steps(1) infinite;\n",
              "  }\n",
              "\n",
              "  @keyframes spin {\n",
              "    0% {\n",
              "      border-color: transparent;\n",
              "      border-bottom-color: var(--fill-color);\n",
              "      border-left-color: var(--fill-color);\n",
              "    }\n",
              "    20% {\n",
              "      border-color: transparent;\n",
              "      border-left-color: var(--fill-color);\n",
              "      border-top-color: var(--fill-color);\n",
              "    }\n",
              "    30% {\n",
              "      border-color: transparent;\n",
              "      border-left-color: var(--fill-color);\n",
              "      border-top-color: var(--fill-color);\n",
              "      border-right-color: var(--fill-color);\n",
              "    }\n",
              "    40% {\n",
              "      border-color: transparent;\n",
              "      border-right-color: var(--fill-color);\n",
              "      border-top-color: var(--fill-color);\n",
              "    }\n",
              "    60% {\n",
              "      border-color: transparent;\n",
              "      border-right-color: var(--fill-color);\n",
              "    }\n",
              "    80% {\n",
              "      border-color: transparent;\n",
              "      border-right-color: var(--fill-color);\n",
              "      border-bottom-color: var(--fill-color);\n",
              "    }\n",
              "    90% {\n",
              "      border-color: transparent;\n",
              "      border-bottom-color: var(--fill-color);\n",
              "    }\n",
              "  }\n",
              "</style>\n",
              "\n",
              "  <script>\n",
              "    async function quickchart(key) {\n",
              "      const quickchartButtonEl =\n",
              "        document.querySelector('#' + key + ' button');\n",
              "      quickchartButtonEl.disabled = true;  // To prevent multiple clicks.\n",
              "      quickchartButtonEl.classList.add('colab-df-spinner');\n",
              "      try {\n",
              "        const charts = await google.colab.kernel.invokeFunction(\n",
              "            'suggestCharts', [key], {});\n",
              "      } catch (error) {\n",
              "        console.error('Error during call to suggestCharts:', error);\n",
              "      }\n",
              "      quickchartButtonEl.classList.remove('colab-df-spinner');\n",
              "      quickchartButtonEl.classList.add('colab-df-quickchart-complete');\n",
              "    }\n",
              "    (() => {\n",
              "      let quickchartButtonEl =\n",
              "        document.querySelector('#df-b47f484a-d78e-462b-a08e-47c7ee53c5c5 button');\n",
              "      quickchartButtonEl.style.display =\n",
              "        google.colab.kernel.accessAllowed ? 'block' : 'none';\n",
              "    })();\n",
              "  </script>\n",
              "</div>\n",
              "\n",
              "  <div id=\"id_f2491759-603b-46f7-bcde-bf2e13f153fb\">\n",
              "    <style>\n",
              "      .colab-df-generate {\n",
              "        background-color: #E8F0FE;\n",
              "        border: none;\n",
              "        border-radius: 50%;\n",
              "        cursor: pointer;\n",
              "        display: none;\n",
              "        fill: #1967D2;\n",
              "        height: 32px;\n",
              "        padding: 0 0 0 0;\n",
              "        width: 32px;\n",
              "      }\n",
              "\n",
              "      .colab-df-generate:hover {\n",
              "        background-color: #E2EBFA;\n",
              "        box-shadow: 0px 1px 2px rgba(60, 64, 67, 0.3), 0px 1px 3px 1px rgba(60, 64, 67, 0.15);\n",
              "        fill: #174EA6;\n",
              "      }\n",
              "\n",
              "      [theme=dark] .colab-df-generate {\n",
              "        background-color: #3B4455;\n",
              "        fill: #D2E3FC;\n",
              "      }\n",
              "\n",
              "      [theme=dark] .colab-df-generate:hover {\n",
              "        background-color: #434B5C;\n",
              "        box-shadow: 0px 1px 3px 1px rgba(0, 0, 0, 0.15);\n",
              "        filter: drop-shadow(0px 1px 2px rgba(0, 0, 0, 0.3));\n",
              "        fill: #FFFFFF;\n",
              "      }\n",
              "    </style>\n",
              "    <button class=\"colab-df-generate\" onclick=\"generateWithVariable('pandas_df')\"\n",
              "            title=\"Generate code using this dataframe.\"\n",
              "            style=\"display:none;\">\n",
              "\n",
              "  <svg xmlns=\"http://www.w3.org/2000/svg\" height=\"24px\"viewBox=\"0 0 24 24\"\n",
              "       width=\"24px\">\n",
              "    <path d=\"M7,19H8.4L18.45,9,17,7.55,7,17.6ZM5,21V16.75L18.45,3.32a2,2,0,0,1,2.83,0l1.4,1.43a1.91,1.91,0,0,1,.58,1.4,1.91,1.91,0,0,1-.58,1.4L9.25,21ZM18.45,9,17,7.55Zm-12,3A5.31,5.31,0,0,0,4.9,8.1,5.31,5.31,0,0,0,1,6.5,5.31,5.31,0,0,0,4.9,4.9,5.31,5.31,0,0,0,6.5,1,5.31,5.31,0,0,0,8.1,4.9,5.31,5.31,0,0,0,12,6.5,5.46,5.46,0,0,0,6.5,12Z\"/>\n",
              "  </svg>\n",
              "    </button>\n",
              "    <script>\n",
              "      (() => {\n",
              "      const buttonEl =\n",
              "        document.querySelector('#id_f2491759-603b-46f7-bcde-bf2e13f153fb button.colab-df-generate');\n",
              "      buttonEl.style.display =\n",
              "        google.colab.kernel.accessAllowed ? 'block' : 'none';\n",
              "\n",
              "      buttonEl.onclick = () => {\n",
              "        google.colab.notebook.generateWithVariable('pandas_df');\n",
              "      }\n",
              "      })();\n",
              "    </script>\n",
              "  </div>\n",
              "\n",
              "    </div>\n",
              "  </div>\n"
            ],
            "text/plain": [
              "                 State     Sex              Age                       Race  \\\n",
              "0              Alabama  Female  Age 80 or older   White only, Non-Hispanic   \n",
              "1              Alabama  Female     Age 55 to 59   White only, Non-Hispanic   \n",
              "2              Alabama  Female     Age 40 to 44   White only, Non-Hispanic   \n",
              "3              Alabama    Male  Age 80 or older   White only, Non-Hispanic   \n",
              "4              Alabama  Female  Age 80 or older   Black only, Non-Hispanic   \n",
              "...                ...     ...              ...                        ...   \n",
              "318929  Virgin Islands    Male     Age 65 to 69  Multiracial, Non-Hispanic   \n",
              "318930  Virgin Islands    Male     Age 30 to 34   White only, Non-Hispanic   \n",
              "318931  Virgin Islands  Female     Age 50 to 54   Black only, Non-Hispanic   \n",
              "318932  Virgin Islands    Male     Age 70 to 74   Black only, Non-Hispanic   \n",
              "318933  Virgin Islands    Male     Age 40 to 44   Black only, Non-Hispanic   \n",
              "\n",
              "          BMI  GenHealth PhysicalHealth MentalHealth PhysicalActivity  \\\n",
              "0       26.57  Excellent            0.0          0.0               No   \n",
              "1       25.61  Very good            2.0          3.0              Yes   \n",
              "2       21.77       Fair            2.0          0.0              Yes   \n",
              "3       26.08       Poor            1.0          0.0               No   \n",
              "4       22.96  Very good            0.0          0.0              Yes   \n",
              "...       ...        ...            ...          ...              ...   \n",
              "318929  29.86       Good            0.0         15.0              Yes   \n",
              "318930  31.19       Good            0.0          0.0              Yes   \n",
              "318931  28.66  Excellent            2.0          2.0              Yes   \n",
              "318932  32.55  Very good            0.0          0.0               No   \n",
              "318933   22.6  Very good            0.0          1.0              Yes   \n",
              "\n",
              "       ChestScan  ...                            ECigaretteUsage Drinking  \\\n",
              "0             No  ...  Never used e-cigarettes in my entire life       No   \n",
              "1             No  ...  Never used e-cigarettes in my entire life       No   \n",
              "2            Yes  ...  Never used e-cigarettes in my entire life      Yes   \n",
              "3             No  ...  Never used e-cigarettes in my entire life       No   \n",
              "4             No  ...  Never used e-cigarettes in my entire life      Yes   \n",
              "...          ...  ...                                        ...      ...   \n",
              "318929        No  ...  Never used e-cigarettes in my entire life      Yes   \n",
              "318930        No  ...  Never used e-cigarettes in my entire life      Yes   \n",
              "318931        No  ...  Never used e-cigarettes in my entire life       No   \n",
              "318932       Yes  ...  Never used e-cigarettes in my entire life       No   \n",
              "318933       Yes  ...                     Not at all (right now)      Yes   \n",
              "\n",
              "       HeartAttack Angina Stroke Asthma SkinCancer Depressed KidneyDisease  \\\n",
              "0               No     No     No     No        Yes        No            No   \n",
              "1               No     No     No     No        Yes        No            No   \n",
              "2               No     No     No     No         No        No            No   \n",
              "3              Yes     No    Yes     No         No        No            No   \n",
              "4               No     No     No     No         No        No            No   \n",
              "...            ...    ...    ...    ...        ...       ...           ...   \n",
              "318929          No     No    Yes     No         No        No            No   \n",
              "318930          No     No     No     No         No        No            No   \n",
              "318931          No     No     No     No         No        No            No   \n",
              "318932         Yes     No     No    Yes         No        No            No   \n",
              "318933          No     No     No     No         No        No            No   \n",
              "\n",
              "       Diabetes  \n",
              "0            No  \n",
              "1            No  \n",
              "2            No  \n",
              "3           Yes  \n",
              "4            No  \n",
              "...         ...  \n",
              "318929      Yes  \n",
              "318930       No  \n",
              "318931       No  \n",
              "318932       No  \n",
              "318933       No  \n",
              "\n",
              "[318934 rows x 23 columns]"
            ]
          },
          "execution_count": 20,
          "metadata": {},
          "output_type": "execute_result"
        }
      ],
      "source": [
        "pandas_df"
      ]
    },
    {
      "cell_type": "code",
      "execution_count": null,
      "metadata": {
        "id": "t1IBOVFssy19"
      },
      "outputs": [],
      "source": [
        "# Save to CSV\n",
        "pandas_df.to_csv(\"/content/heart_2022_Spark.csv\", index=False)"
      ]
    },
    {
      "cell_type": "markdown",
      "metadata": {},
      "source": [
        "### Save *heart_2022_Spark.csv* into the *Resources* folder"
      ]
    }
  ],
  "metadata": {
    "anaconda-cloud": {},
    "colab": {
      "include_colab_link": true,
      "provenance": []
    },
    "kernel_info": {
      "name": "python3"
    },
    "kernelspec": {
      "display_name": "Python 3 (ipykernel)",
      "language": "python",
      "name": "python3"
    },
    "language_info": {
      "codemirror_mode": {
        "name": "ipython",
        "version": 3
      },
      "file_extension": ".py",
      "mimetype": "text/x-python",
      "name": "python",
      "nbconvert_exporter": "python",
      "pygments_lexer": "ipython3",
      "version": "3.10.4"
    },
    "nbpresent": {
      "slides": {},
      "themes": {
        "default": "0535adbc-b74f-46cc-9cd6-4eabe2477c8e",
        "theme": {
          "0535adbc-b74f-46cc-9cd6-4eabe2477c8e": {
            "backgrounds": {
              "backgroundColor": {
                "background-color": "backgroundColor",
                "id": "backgroundColor"
              }
            },
            "id": "0535adbc-b74f-46cc-9cd6-4eabe2477c8e",
            "palette": {
              "backgroundColor": {
                "id": "backgroundColor",
                "rgb": [
                  43,
                  43,
                  43
                ]
              },
              "headingColor": {
                "id": "headingColor",
                "rgb": [
                  238,
                  238,
                  238
                ]
              },
              "linkColor": {
                "id": "linkColor",
                "rgb": [
                  19,
                  218,
                  236
                ]
              },
              "mainColor": {
                "id": "mainColor",
                "rgb": [
                  238,
                  238,
                  238
                ]
              }
            },
            "rules": {
              "a": {
                "color": "linkColor"
              },
              "h1": {
                "color": "headingColor",
                "font-family": "Oswald",
                "font-size": 7
              },
              "h2": {
                "color": "headingColor",
                "font-family": "Oswald",
                "font-size": 5
              },
              "h3": {
                "color": "headingColor",
                "font-family": "Oswald",
                "font-size": 3.75
              },
              "h4": {
                "color": "headingColor",
                "font-family": "Oswald",
                "font-size": 3
              },
              "h5": {
                "color": "headingColor",
                "font-family": "Oswald"
              },
              "h6": {
                "color": "headingColor",
                "font-family": "Oswald"
              },
              "h7": {
                "color": "headingColor",
                "font-family": "Oswald"
              },
              "li": {
                "color": "mainColor",
                "font-family": "Lato",
                "font-size": 5
              },
              "p": {
                "color": "mainColor",
                "font-family": "Lato",
                "font-size": 5
              }
            },
            "text-base": {
              "color": "mainColor",
              "font-family": "Lato",
              "font-size": 5
            }
          },
          "cc59980f-cb69-400a-b63a-1fb85ca73c8a": {
            "backgrounds": {
              "dc7afa04-bf90-40b1-82a5-726e3cff5267": {
                "background-color": "31af15d2-7e15-44c5-ab5e-e04b16a89eff",
                "id": "dc7afa04-bf90-40b1-82a5-726e3cff5267"
              }
            },
            "id": "cc59980f-cb69-400a-b63a-1fb85ca73c8a",
            "palette": {
              "19cc588f-0593-49c9-9f4b-e4d7cc113b1c": {
                "id": "19cc588f-0593-49c9-9f4b-e4d7cc113b1c",
                "rgb": [
                  252,
                  252,
                  252
                ]
              },
              "31af15d2-7e15-44c5-ab5e-e04b16a89eff": {
                "id": "31af15d2-7e15-44c5-ab5e-e04b16a89eff",
                "rgb": [
                  68,
                  68,
                  68
                ]
              },
              "50f92c45-a630-455b-aec3-788680ec7410": {
                "id": "50f92c45-a630-455b-aec3-788680ec7410",
                "rgb": [
                  197,
                  226,
                  245
                ]
              },
              "c5cc3653-2ee1-402a-aba2-7caae1da4f6c": {
                "id": "c5cc3653-2ee1-402a-aba2-7caae1da4f6c",
                "rgb": [
                  43,
                  126,
                  184
                ]
              },
              "efa7f048-9acb-414c-8b04-a26811511a21": {
                "id": "efa7f048-9acb-414c-8b04-a26811511a21",
                "rgb": [
                  25.118061674008803,
                  73.60176211453744,
                  107.4819383259912
                ]
              }
            },
            "rules": {
              "a": {
                "color": "19cc588f-0593-49c9-9f4b-e4d7cc113b1c"
              },
              "blockquote": {
                "color": "50f92c45-a630-455b-aec3-788680ec7410",
                "font-size": 3
              },
              "code": {
                "font-family": "Anonymous Pro"
              },
              "h1": {
                "color": "19cc588f-0593-49c9-9f4b-e4d7cc113b1c",
                "font-family": "Merriweather",
                "font-size": 8
              },
              "h2": {
                "color": "19cc588f-0593-49c9-9f4b-e4d7cc113b1c",
                "font-family": "Merriweather",
                "font-size": 6
              },
              "h3": {
                "color": "50f92c45-a630-455b-aec3-788680ec7410",
                "font-family": "Lato",
                "font-size": 5.5
              },
              "h4": {
                "color": "c5cc3653-2ee1-402a-aba2-7caae1da4f6c",
                "font-family": "Lato",
                "font-size": 5
              },
              "h5": {
                "font-family": "Lato"
              },
              "h6": {
                "font-family": "Lato"
              },
              "h7": {
                "font-family": "Lato"
              },
              "li": {
                "color": "50f92c45-a630-455b-aec3-788680ec7410",
                "font-size": 3.25
              },
              "pre": {
                "font-family": "Anonymous Pro",
                "font-size": 4
              }
            },
            "text-base": {
              "color": "19cc588f-0593-49c9-9f4b-e4d7cc113b1c",
              "font-family": "Lato",
              "font-size": 4
            }
          }
        }
      }
    },
    "nteract": {
      "version": "0.10.0"
    },
    "varInspector": {
      "cols": {
        "lenName": 16,
        "lenType": 16,
        "lenVar": 40
      },
      "kernels_config": {
        "python": {
          "delete_cmd_postfix": "",
          "delete_cmd_prefix": "del ",
          "library": "var_list.py",
          "varRefreshCmd": "print(var_dic_list())"
        },
        "r": {
          "delete_cmd_postfix": ") ",
          "delete_cmd_prefix": "rm(",
          "library": "var_list.r",
          "varRefreshCmd": "cat(var_dic_list()) "
        }
      },
      "types_to_exclude": [
        "module",
        "function",
        "builtin_function_or_method",
        "instance",
        "_Feature"
      ],
      "window_display": false
    }
  },
  "nbformat": 4,
  "nbformat_minor": 0
}
