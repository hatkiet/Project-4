{
  "cells": [
    {
      "cell_type": "markdown",
      "metadata": {
        "colab_type": "text",
        "id": "view-in-github"
      },
      "source": [
        "<a href=\"https://colab.research.google.com/github/hatkiet/Project_4/blob/main/1_HeartAttack_SparkSQL.ipynb\" target=\"_parent\"><img src=\"https://colab.research.google.com/assets/colab-badge.svg\" alt=\"Open In Colab\"/></a>"
      ]
    },
    {
      "cell_type": "markdown",
      "metadata": {
        "id": "Vv16HppWUeva"
      },
      "source": [
        "## Dataframe Basics"
      ]
    },
    {
      "cell_type": "code",
      "execution_count": null,
      "metadata": {
        "colab": {
          "base_uri": "https://localhost:8080/"
        },
        "id": "G1sd9SzuUvob",
        "outputId": "0244bc1d-0b5e-41e8-8e31-1c10bb04cfe8"
      },
      "outputs": [],
      "source": [
        "import os\n",
        "# Find the latest version of spark 3.x  from http://www.apache.org/dist/spark/ and enter as the spark version\n",
        "# For example:\n",
        "# spark_version = 'spark-3.5.1'\n",
        "spark_version = 'spark-3.5.1'\n",
        "os.environ['SPARK_VERSION']=spark_version\n",
        "\n",
        "# Install Spark and Java\n",
        "!apt-get update\n",
        "!apt-get install openjdk-11-jdk-headless -qq > /dev/null\n",
        "!wget -q http://www.apache.org/dist/spark/$SPARK_VERSION/$SPARK_VERSION-bin-hadoop3.tgz\n",
        "!tar xf $SPARK_VERSION-bin-hadoop3.tgz\n",
        "!pip install -q findspark\n",
        "\n",
        "# Set Environment Variables\n",
        "os.environ[\"JAVA_HOME\"] = \"/usr/lib/jvm/java-11-openjdk-amd64\"\n",
        "os.environ[\"SPARK_HOME\"] = f\"/content/{spark_version}-bin-hadoop3\"\n",
        "\n",
        "# Start a SparkSession\n",
        "import findspark\n",
        "findspark.init()"
      ]
    },
    {
      "cell_type": "code",
      "execution_count": null,
      "metadata": {
        "id": "nPRmMt8FVirP"
      },
      "outputs": [],
      "source": [
        "# Start Spark session\n",
        "from pyspark.sql import SparkSession\n",
        "spark = SparkSession.builder.appName(\"HeartAttack\").getOrCreate()"
      ]
    },
    {
      "cell_type": "code",
      "execution_count": null,
      "metadata": {
        "colab": {
          "base_uri": "https://localhost:8080/"
        },
        "id": "pPblsa7lgYMz",
        "outputId": "cdf401a7-35cf-414f-9502-75f6f909c2cc"
      },
      "outputs": [],
      "source": [
        "#Download datasets from kaggle\n",
        "!kaggle datasets download kamilpytlak/personal-key-indicators-of-heart-disease -f 2022/heart_2022_with_nans.csv --force\n",
        "\n",
        "#unzip\n",
        "!unzip -jo heart_2022_with_nans.csv.zip \"heart_2022_with_nans.csv\" -d /content/"
      ]
    },
    {
      "cell_type": "code",
      "execution_count": null,
      "metadata": {
        "id": "radFWve6giIu"
      },
      "outputs": [],
      "source": [
        "#Read in dataset from CSV file into spark\n",
        "from pyspark import SparkFiles\n",
        "df = spark.read.csv(SparkFiles.get(\"/content/heart_2022_with_nans.csv\"), sep=\",\", header=True)"
      ]
    },
    {
      "cell_type": "code",
      "execution_count": null,
      "metadata": {
        "colab": {
          "base_uri": "https://localhost:8080/"
        },
        "id": "MVW7jBoKUeve",
        "outputId": "6dcdcf77-f7f8-426c-b4a1-c5ffe3d2a65a"
      },
      "outputs": [],
      "source": [
        "# Show DataFrame\n",
        "df.show()"
      ]
    },
    {
      "cell_type": "code",
      "execution_count": null,
      "metadata": {
        "colab": {
          "base_uri": "https://localhost:8080/"
        },
        "id": "u7AbwqP5jdJy",
        "outputId": "9b91fcec-606c-4dfc-9a7c-84d9847c3113"
      },
      "outputs": [],
      "source": [
        "# Print our schema\n",
        "df.printSchema()"
      ]
    },
    {
      "cell_type": "code",
      "execution_count": null,
      "metadata": {
        "colab": {
          "base_uri": "https://localhost:8080/"
        },
        "id": "uwIhrrWlUevj",
        "outputId": "49c39322-6758-4e93-851e-3c65aeda9531"
      },
      "outputs": [],
      "source": [
        "# Show the columns\n",
        "df.columns"
      ]
    },
    {
      "cell_type": "code",
      "execution_count": null,
      "metadata": {
        "colab": {
          "base_uri": "https://localhost:8080/"
        },
        "id": "HIEN0qoVUevs",
        "outputId": "60ff10e5-1d72-428f-a04b-6ad0fde55ce6"
      },
      "outputs": [],
      "source": [
        "# Describe our data\n",
        "df.describe()"
      ]
    },
    {
      "cell_type": "code",
      "execution_count": null,
      "metadata": {
        "colab": {
          "base_uri": "https://localhost:8080/"
        },
        "id": "z4jxON_LibOu",
        "outputId": "2e41c331-53e4-4124-d869-a55761cd7f35"
      },
      "outputs": [],
      "source": [
        "df.select([\"PhysicalHealthDays\", \"MentalHealthDays\", \"SleepHours\", \"BMI\"]).describe().show()"
      ]
    },
    {
      "cell_type": "code",
      "execution_count": null,
      "metadata": {
        "colab": {
          "base_uri": "https://localhost:8080/"
        },
        "id": "Y7esD6FGkKml",
        "outputId": "edacad27-6b82-4033-fcab-2b764643aa02"
      },
      "outputs": [],
      "source": [
        "columns_to_remove = [\n",
        "    'LastCheckupTime', 'RemovedTeeth', 'HadCOPD',\n",
        "    'HadArthritis', 'DeafOrHardOfHearing', 'BlindOrVisionDifficulty',\n",
        "    'DifficultyConcentrating', 'DifficultyDressingBathing', 'DifficultyErrands',\n",
        "    'HeightInMeters', 'WeightInKilograms', 'HIVTesting', 'FluVaxLast12',\n",
        "    'PneumoVaxEver', 'TetanusLast10Tdap', 'HighRiskLastYear', 'CovidPos'\n",
        "]\n",
        "\n",
        "df = df.drop(*columns_to_remove)\n",
        "df.show()"
      ]
    },
    {
      "cell_type": "code",
      "execution_count": null,
      "metadata": {
        "colab": {
          "base_uri": "https://localhost:8080/"
        },
        "id": "dsi6J7QbpkiO",
        "outputId": "61fb34c4-812c-4170-9a9a-8ff7eb08edba"
      },
      "outputs": [],
      "source": [
        "df.columns"
      ]
    },
    {
      "cell_type": "code",
      "execution_count": null,
      "metadata": {
        "colab": {
          "base_uri": "https://localhost:8080/"
        },
        "id": "cneXg88vqOwX",
        "outputId": "d4e154fe-a877-4e24-a974-596954ef2f3f"
      },
      "outputs": [],
      "source": [
        "column_order = [\n",
        "        # User Info\n",
        "        'State', 'Sex', 'AgeCategory', 'RaceEthnicityCategory','BMI',\n",
        "        # General health\n",
        "        'GeneralHealth', 'PhysicalHealthDays', 'MentalHealthDays', 'PhysicalActivities', 'ChestScan',\n",
        "        # risks\n",
        "        'SleepHours', 'DifficultyWalking', 'SmokerStatus', 'ECigaretteUsage', 'AlcoholDrinkers',\n",
        "        # Medication History\n",
        "        'HadHeartAttack', 'HadAngina',  'HadStroke', 'HadAsthma',\n",
        "        'HadSkinCancer', 'HadDepressiveDisorder', 'HadKidneyDisease','HadDiabetes',\n",
        "]\n",
        "df = df.select(*column_order)\n",
        "df.show()"
      ]
    },
    {
      "cell_type": "code",
      "execution_count": null,
      "metadata": {
        "colab": {
          "base_uri": "https://localhost:8080/"
        },
        "id": "0nZzPYIPrFCR",
        "outputId": "64f3d0a6-94a7-4df1-b3d5-626449208967"
      },
      "outputs": [],
      "source": [
        "rename_mapping = {\n",
        "    'AgeCategory': \"Age\",\n",
        "    'RaceEthnicityCategory': \"Race\",\n",
        "    'GeneralHealth': \"GenHealth\",\n",
        "    'PhysicalHealthDays': \"PhysicalHealth\",\n",
        "    'PhysicalActivities': \"PhysicalActivity\",\n",
        "    'MentalHealthDays': \"MentalHealth\",\n",
        "    'HadAngina': \"Angina\",\n",
        "    'HadHeartAttack': \"HeartAttack\",\n",
        "    'HadStroke': \"Stroke\",\n",
        "    'HadAsthma': \"Asthma\",\n",
        "    'HadSkinCancer': \"SkinCancer\",\n",
        "    'HadDepressiveDisorder': \"Depressed\",\n",
        "    'HadKidneyDisease': \"KidneyDisease\",\n",
        "    'DifficultyWalking': \"DiffWalking\",\n",
        "    'HadDiabetes': \"Diabetes\",\n",
        "    'SmokerStatus': \"Smoking\",\n",
        "    'AlcoholDrinkers': \"Drinking\"\n",
        "}\n",
        "\n",
        "for name, rename in rename_mapping.items():\n",
        "    df = df.withColumnRenamed(name, rename)\n",
        "\n",
        "df.show()"
      ]
    },
    {
      "cell_type": "code",
      "execution_count": null,
      "metadata": {
        "colab": {
          "base_uri": "https://localhost:8080/"
        },
        "id": "JLnl9Bmqr6zR",
        "outputId": "f8cf174f-8363-4dc1-d01e-2f2253cf95cf"
      },
      "outputs": [],
      "source": [
        "from pyspark.sql.functions import col\n",
        "\n",
        "# Count NaN values for each column\n",
        "nan_counts = df.select([col(c).isNull().alias(c) for c in df.columns]) \\\n",
        "               .groupBy() \\\n",
        "               .count() \\\n",
        "               .collect()[0]\n",
        "\n",
        "# Display NaN counts\n",
        "print(\"NaN Value Distribution:\")\n",
        "for col_name, nan_count in zip(df.columns, nan_counts):\n",
        "    print(f\"{col_name}: {nan_count}\")"
      ]
    },
    {
      "cell_type": "code",
      "execution_count": null,
      "metadata": {
        "colab": {
          "base_uri": "https://localhost:8080/"
        },
        "id": "Brp8tZCyslWZ",
        "outputId": "9d9736e8-b9de-4c6f-b376-95ae496ee6a9"
      },
      "outputs": [],
      "source": [
        "# Drop rows with NaN values\n",
        "df1 = df.dropna()\n",
        "\n",
        "# Show DataFrame after dropping NaN values\n",
        "df1.show()"
      ]
    },
    {
      "cell_type": "code",
      "execution_count": null,
      "metadata": {
        "colab": {
          "base_uri": "https://localhost:8080/"
        },
        "id": "TO_IcIhXtC9M",
        "outputId": "0ef0482e-a065-40c4-ae7e-9c1e896ba03c"
      },
      "outputs": [],
      "source": [
        "df1.dtypes"
      ]
    },
    {
      "cell_type": "code",
      "execution_count": null,
      "metadata": {
        "id": "nsC1wGfJu55U"
      },
      "outputs": [],
      "source": [
        "# Create a temporary view of the Dataframe\n",
        "df1.createOrReplaceTempView(\"heart_data\")"
      ]
    },
    {
      "cell_type": "code",
      "execution_count": null,
      "metadata": {
        "colab": {
          "base_uri": "https://localhost:8080/"
        },
        "id": "Nj2bloKCvN3-",
        "outputId": "8accd8f2-1dd2-48b6-cb56-3ddef87c6c77"
      },
      "outputs": [],
      "source": [
        "# SQL query to calculate percentage of 'Yes' and 'No' in 'HeartAttack' column\n",
        "# Use Spark SQL query to count the occurrences of each value and then calculate the percentages.\n",
        "\n",
        "heart_attack_percentages = spark.sql(\"\"\"\n",
        "    SELECT ROUND(COUNT(CASE WHEN HeartAttack = 'Yes' THEN 1 END) / COUNT(*) * 100, 2) AS yes_percentage,\n",
        "           ROUND(COUNT(CASE WHEN HeartAttack = 'No' THEN 1 END) / COUNT(*) * 100, 2) AS no_percentage\n",
        "    FROM heart_data\n",
        "\"\"\")\n",
        "\n",
        "# Show the result\n",
        "heart_attack_percentages.show()"
      ]
    },
    {
      "cell_type": "markdown",
      "metadata": {
        "id": "dO0pdWQSUexD"
      },
      "source": [
        "# Converting PySpark DataFrame to Pandas DataFrame"
      ]
    },
    {
      "cell_type": "code",
      "execution_count": null,
      "metadata": {
        "id": "Z-0pF6RVUexE"
      },
      "outputs": [],
      "source": [
        "import pandas as pd\n",
        "pandas_df = df1.toPandas()"
      ]
    },
    {
      "cell_type": "code",
      "execution_count": null,
      "metadata": {
        "colab": {
          "base_uri": "https://localhost:8080/",
          "height": 830
        },
        "id": "9XMUMESlUexI",
        "outputId": "dfe40b2b-bc83-4b47-f8dc-9f34077e704c"
      },
      "outputs": [],
      "source": [
        "pandas_df"
      ]
    },
    {
      "cell_type": "code",
      "execution_count": null,
      "metadata": {
        "id": "t1IBOVFssy19"
      },
      "outputs": [],
      "source": [
        "# Save to CSV\n",
        "pandas_df.to_csv(\"/content/heart_2022_Spark.csv\", index=False)"
      ]
    }
  ],
  "metadata": {
    "anaconda-cloud": {},
    "colab": {
      "include_colab_link": true,
      "provenance": []
    },
    "kernel_info": {
      "name": "python3"
    },
    "kernelspec": {
      "display_name": "Python 3 (ipykernel)",
      "language": "python",
      "name": "python3"
    },
    "language_info": {
      "codemirror_mode": {
        "name": "ipython",
        "version": 3
      },
      "file_extension": ".py",
      "mimetype": "text/x-python",
      "name": "python",
      "nbconvert_exporter": "python",
      "pygments_lexer": "ipython3",
      "version": "3.10.13"
    },
    "nbpresent": {
      "slides": {},
      "themes": {
        "default": "0535adbc-b74f-46cc-9cd6-4eabe2477c8e",
        "theme": {
          "0535adbc-b74f-46cc-9cd6-4eabe2477c8e": {
            "backgrounds": {
              "backgroundColor": {
                "background-color": "backgroundColor",
                "id": "backgroundColor"
              }
            },
            "id": "0535adbc-b74f-46cc-9cd6-4eabe2477c8e",
            "palette": {
              "backgroundColor": {
                "id": "backgroundColor",
                "rgb": [
                  43,
                  43,
                  43
                ]
              },
              "headingColor": {
                "id": "headingColor",
                "rgb": [
                  238,
                  238,
                  238
                ]
              },
              "linkColor": {
                "id": "linkColor",
                "rgb": [
                  19,
                  218,
                  236
                ]
              },
              "mainColor": {
                "id": "mainColor",
                "rgb": [
                  238,
                  238,
                  238
                ]
              }
            },
            "rules": {
              "a": {
                "color": "linkColor"
              },
              "h1": {
                "color": "headingColor",
                "font-family": "Oswald",
                "font-size": 7
              },
              "h2": {
                "color": "headingColor",
                "font-family": "Oswald",
                "font-size": 5
              },
              "h3": {
                "color": "headingColor",
                "font-family": "Oswald",
                "font-size": 3.75
              },
              "h4": {
                "color": "headingColor",
                "font-family": "Oswald",
                "font-size": 3
              },
              "h5": {
                "color": "headingColor",
                "font-family": "Oswald"
              },
              "h6": {
                "color": "headingColor",
                "font-family": "Oswald"
              },
              "h7": {
                "color": "headingColor",
                "font-family": "Oswald"
              },
              "li": {
                "color": "mainColor",
                "font-family": "Lato",
                "font-size": 5
              },
              "p": {
                "color": "mainColor",
                "font-family": "Lato",
                "font-size": 5
              }
            },
            "text-base": {
              "color": "mainColor",
              "font-family": "Lato",
              "font-size": 5
            }
          },
          "cc59980f-cb69-400a-b63a-1fb85ca73c8a": {
            "backgrounds": {
              "dc7afa04-bf90-40b1-82a5-726e3cff5267": {
                "background-color": "31af15d2-7e15-44c5-ab5e-e04b16a89eff",
                "id": "dc7afa04-bf90-40b1-82a5-726e3cff5267"
              }
            },
            "id": "cc59980f-cb69-400a-b63a-1fb85ca73c8a",
            "palette": {
              "19cc588f-0593-49c9-9f4b-e4d7cc113b1c": {
                "id": "19cc588f-0593-49c9-9f4b-e4d7cc113b1c",
                "rgb": [
                  252,
                  252,
                  252
                ]
              },
              "31af15d2-7e15-44c5-ab5e-e04b16a89eff": {
                "id": "31af15d2-7e15-44c5-ab5e-e04b16a89eff",
                "rgb": [
                  68,
                  68,
                  68
                ]
              },
              "50f92c45-a630-455b-aec3-788680ec7410": {
                "id": "50f92c45-a630-455b-aec3-788680ec7410",
                "rgb": [
                  197,
                  226,
                  245
                ]
              },
              "c5cc3653-2ee1-402a-aba2-7caae1da4f6c": {
                "id": "c5cc3653-2ee1-402a-aba2-7caae1da4f6c",
                "rgb": [
                  43,
                  126,
                  184
                ]
              },
              "efa7f048-9acb-414c-8b04-a26811511a21": {
                "id": "efa7f048-9acb-414c-8b04-a26811511a21",
                "rgb": [
                  25.118061674008803,
                  73.60176211453744,
                  107.4819383259912
                ]
              }
            },
            "rules": {
              "a": {
                "color": "19cc588f-0593-49c9-9f4b-e4d7cc113b1c"
              },
              "blockquote": {
                "color": "50f92c45-a630-455b-aec3-788680ec7410",
                "font-size": 3
              },
              "code": {
                "font-family": "Anonymous Pro"
              },
              "h1": {
                "color": "19cc588f-0593-49c9-9f4b-e4d7cc113b1c",
                "font-family": "Merriweather",
                "font-size": 8
              },
              "h2": {
                "color": "19cc588f-0593-49c9-9f4b-e4d7cc113b1c",
                "font-family": "Merriweather",
                "font-size": 6
              },
              "h3": {
                "color": "50f92c45-a630-455b-aec3-788680ec7410",
                "font-family": "Lato",
                "font-size": 5.5
              },
              "h4": {
                "color": "c5cc3653-2ee1-402a-aba2-7caae1da4f6c",
                "font-family": "Lato",
                "font-size": 5
              },
              "h5": {
                "font-family": "Lato"
              },
              "h6": {
                "font-family": "Lato"
              },
              "h7": {
                "font-family": "Lato"
              },
              "li": {
                "color": "50f92c45-a630-455b-aec3-788680ec7410",
                "font-size": 3.25
              },
              "pre": {
                "font-family": "Anonymous Pro",
                "font-size": 4
              }
            },
            "text-base": {
              "color": "19cc588f-0593-49c9-9f4b-e4d7cc113b1c",
              "font-family": "Lato",
              "font-size": 4
            }
          }
        }
      }
    },
    "nteract": {
      "version": "0.10.0"
    },
    "varInspector": {
      "cols": {
        "lenName": 16,
        "lenType": 16,
        "lenVar": 40
      },
      "kernels_config": {
        "python": {
          "delete_cmd_postfix": "",
          "delete_cmd_prefix": "del ",
          "library": "var_list.py",
          "varRefreshCmd": "print(var_dic_list())"
        },
        "r": {
          "delete_cmd_postfix": ") ",
          "delete_cmd_prefix": "rm(",
          "library": "var_list.r",
          "varRefreshCmd": "cat(var_dic_list()) "
        }
      },
      "types_to_exclude": [
        "module",
        "function",
        "builtin_function_or_method",
        "instance",
        "_Feature"
      ],
      "window_display": false
    }
  },
  "nbformat": 4,
  "nbformat_minor": 0
}
