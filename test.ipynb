{
 "cells": [
  {
   "cell_type": "code",
   "execution_count": 18,
   "metadata": {},
   "outputs": [],
   "source": [
    "import pandas as pd\n",
    "import numpy as np\n",
    "from pathlib import Path"
   ]
  },
  {
   "cell_type": "code",
   "execution_count": 19,
   "metadata": {},
   "outputs": [],
   "source": [
    "# Import and initialize findspark\n",
    "import findspark\n",
    "findspark.init()\n",
    "\n",
    "# Start Spark session\n",
    "from pyspark.sql import SparkSession\n",
    "spark = SparkSession.builder.appName(\"Testing\").getOrCreate()\n",
    "\n"
   ]
  },
  {
   "cell_type": "code",
   "execution_count": 20,
   "metadata": {},
   "outputs": [],
   "source": [
    "df_path = Path(\"Resources/heart_2022_with_nans.csv\")"
   ]
  },
  {
   "cell_type": "code",
   "execution_count": 21,
   "metadata": {},
   "outputs": [],
   "source": [
    "df = pd.read_csv(df_path)"
   ]
  },
  {
   "cell_type": "code",
   "execution_count": 22,
   "metadata": {},
   "outputs": [],
   "source": [
    "# Create a Spark DataFrame\n",
    "spark_df = spark.createDataFrame(df)"
   ]
  },
  {
   "cell_type": "code",
   "execution_count": 23,
   "metadata": {},
   "outputs": [
    {
     "name": "stdout",
     "output_type": "stream",
     "text": [
      "root\n",
      " |-- State: string (nullable = true)\n",
      " |-- Sex: string (nullable = true)\n",
      " |-- GeneralHealth: string (nullable = true)\n",
      " |-- PhysicalHealthDays: double (nullable = true)\n",
      " |-- MentalHealthDays: double (nullable = true)\n",
      " |-- LastCheckupTime: string (nullable = true)\n",
      " |-- PhysicalActivities: string (nullable = true)\n",
      " |-- SleepHours: double (nullable = true)\n",
      " |-- RemovedTeeth: string (nullable = true)\n",
      " |-- HadHeartAttack: string (nullable = true)\n",
      " |-- HadAngina: string (nullable = true)\n",
      " |-- HadStroke: string (nullable = true)\n",
      " |-- HadAsthma: string (nullable = true)\n",
      " |-- HadSkinCancer: string (nullable = true)\n",
      " |-- HadCOPD: string (nullable = true)\n",
      " |-- HadDepressiveDisorder: string (nullable = true)\n",
      " |-- HadKidneyDisease: string (nullable = true)\n",
      " |-- HadArthritis: string (nullable = true)\n",
      " |-- HadDiabetes: string (nullable = true)\n",
      " |-- DeafOrHardOfHearing: string (nullable = true)\n",
      " |-- BlindOrVisionDifficulty: string (nullable = true)\n",
      " |-- DifficultyConcentrating: string (nullable = true)\n",
      " |-- DifficultyWalking: string (nullable = true)\n",
      " |-- DifficultyDressingBathing: string (nullable = true)\n",
      " |-- DifficultyErrands: string (nullable = true)\n",
      " |-- SmokerStatus: string (nullable = true)\n",
      " |-- ECigaretteUsage: string (nullable = true)\n",
      " |-- ChestScan: string (nullable = true)\n",
      " |-- RaceEthnicityCategory: string (nullable = true)\n",
      " |-- AgeCategory: string (nullable = true)\n",
      " |-- HeightInMeters: double (nullable = true)\n",
      " |-- WeightInKilograms: double (nullable = true)\n",
      " |-- BMI: double (nullable = true)\n",
      " |-- AlcoholDrinkers: string (nullable = true)\n",
      " |-- HIVTesting: string (nullable = true)\n",
      " |-- FluVaxLast12: string (nullable = true)\n",
      " |-- PneumoVaxEver: string (nullable = true)\n",
      " |-- TetanusLast10Tdap: string (nullable = true)\n",
      " |-- HighRiskLastYear: string (nullable = true)\n",
      " |-- CovidPos: string (nullable = true)\n",
      "\n"
     ]
    }
   ],
   "source": [
    "spark_df.printSchema()\n"
   ]
  },
  {
   "cell_type": "code",
   "execution_count": 25,
   "metadata": {},
   "outputs": [
    {
     "name": "stdout",
     "output_type": "stream",
     "text": [
      "+-------+------+-------------+------------------+----------------+--------------------+------------------+----------+------------+--------------+---------+---------+---------+-------------+-------+---------------------+----------------+------------+-----------+-------------------+-----------------------+-----------------------+-----------------+-------------------------+-----------------+--------------------+--------------------+---------+---------------------+---------------+--------------+-----------------+-----+---------------+----------+------------+-------------+--------------------+----------------+--------+\n",
      "|  State|   Sex|GeneralHealth|PhysicalHealthDays|MentalHealthDays|     LastCheckupTime|PhysicalActivities|SleepHours|RemovedTeeth|HadHeartAttack|HadAngina|HadStroke|HadAsthma|HadSkinCancer|HadCOPD|HadDepressiveDisorder|HadKidneyDisease|HadArthritis|HadDiabetes|DeafOrHardOfHearing|BlindOrVisionDifficulty|DifficultyConcentrating|DifficultyWalking|DifficultyDressingBathing|DifficultyErrands|        SmokerStatus|     ECigaretteUsage|ChestScan|RaceEthnicityCategory|    AgeCategory|HeightInMeters|WeightInKilograms|  BMI|AlcoholDrinkers|HIVTesting|FluVaxLast12|PneumoVaxEver|   TetanusLast10Tdap|HighRiskLastYear|CovidPos|\n",
      "+-------+------+-------------+------------------+----------------+--------------------+------------------+----------+------------+--------------+---------+---------+---------+-------------+-------+---------------------+----------------+------------+-----------+-------------------+-----------------------+-----------------------+-----------------+-------------------------+-----------------+--------------------+--------------------+---------+---------------------+---------------+--------------+-----------------+-----+---------------+----------+------------+-------------+--------------------+----------------+--------+\n",
      "|Alabama|  Male|         Poor|               1.0|             0.0|Within past year ...|                No|       7.0|         NaN|           Yes|       No|      Yes|       No|           No|     No|                   No|              No|          No|        Yes|                 No|                     No|                     No|               No|                       No|               No|        Never smoked|Never used e-ciga...|       No| White only, Non-H...|Age 80 or older|           1.8|            84.82|26.08|             No|        No|          No|          Yes|No, did not recei...|              No|      No|\n",
      "|Alabama|Female|         Fair|              23.0|             3.0|Within past year ...|               Yes|       8.0|         NaN|           Yes|      Yes|       No|       No|           No|     No|                   No|              No|         Yes|        Yes|                 No|                     No|                     No|               No|                       No|               No|Current smoker - ...|Never used e-ciga...|      Yes| Black only, Non-H...|   Age 65 to 69|          1.68|           105.23|37.45|            Yes|        No|         Yes|          Yes|Yes, received tet...|              No|     Yes|\n",
      "|Alabama|  Male|         Fair|              30.0|             0.0|Within past year ...|               Yes|       4.0|         NaN|           Yes|      Yes|      Yes|       No|          Yes|     No|                  Yes|             Yes|         Yes|         No|                Yes|                     No|                     No|              Yes|                       No|               No|        Never smoked|Never used e-ciga...|      Yes| White only, Non-H...|   Age 75 to 79|          1.88|            86.18|24.39|            Yes|       Yes|         Yes|          Yes|Yes, received tet...|              No|      No|\n",
      "|Alabama|Female|         Poor|              14.0|            14.0|Within past year ...|                No|       6.0|         NaN|           Yes|      Yes|       No|      Yes|           No|    Yes|                  Yes|             Yes|         Yes|        Yes|                 No|                     No|                    Yes|              Yes|                       No|              Yes|       Former smoker|Not at all (right...|      Yes| White only, Non-H...|   Age 60 to 64|           1.7|            113.4|39.16|             No|       Yes|         Yes|          Yes|Yes, received tet...|              No|     Yes|\n",
      "|Alabama|Female|         Fair|               NaN|             0.0|Within past year ...|               Yes|      10.0|         NaN|           Yes|      Yes|       No|       No|           No|     No|                  Yes|              No|          No|         No|                 No|                     No|                     No|              Yes|                       No|              Yes|        Never smoked|Never used e-ciga...|      Yes| White only, Non-H...|Age 80 or older|          1.78|            61.23|19.37|             No|        No|         Yes|          Yes|Yes, received tet...|              No|      No|\n",
      "|Alabama|  Male|    Very good|               8.0|             0.0|Within past year ...|               Yes|       6.0|         NaN|           Yes|       No|       No|       No|           No|     No|                   No|              No|          No|         No|                NaN|                    NaN|                    NaN|              NaN|                      NaN|              NaN|                 NaN|                 NaN|      NaN| White only, Non-H...|   Age 70 to 74|           NaN|              NaN|  NaN|            NaN|       NaN|         NaN|          NaN|                 NaN|             NaN|     NaN|\n",
      "|Alabama|Female|         Good|               5.0|             3.0|Within past year ...|               Yes|       6.0|         NaN|           Yes|      Yes|       No|       No|           No|     No|                   No|              No|         Yes|        Yes|                 No|                     No|                     No|              Yes|                       No|               No|        Never smoked|Never used e-ciga...|      Yes| White only, Non-H...|Age 80 or older|          1.65|            61.69|22.63|             No|        No|         Yes|          Yes|No, did not recei...|              No|      No|\n",
      "|Alabama|  Male|         Fair|              15.0|            10.0|Within past year ...|               Yes|       4.0|         NaN|           Yes|       No|      Yes|       No|           No|     No|                  Yes|             Yes|         Yes|         No|                Yes|                    Yes|                    Yes|              Yes|                       No|              Yes|        Never smoked|Never used e-ciga...|      Yes| White only, Non-H...|   Age 60 to 64|           1.8|             63.5|19.53|             No|       Yes|          No|           No|Yes, received tet...|              No|      No|\n",
      "|Alabama|  Male|    Very good|               0.0|             NaN|Within past year ...|                No|       6.0|         NaN|           Yes|       No|       No|      Yes|           No|    Yes|                   No|              No|         Yes|         No|                Yes|                    Yes|                     No|               No|                       No|               No|        Never smoked|Never used e-ciga...|      Yes| White only, Non-H...|   Age 70 to 74|          1.68|            90.72|32.28|            Yes|       NaN|          No|          Yes|                 NaN|              No|      No|\n",
      "|Alabama|Female|         Fair|               0.0|             0.0|Within past year ...|                No|       6.0|         NaN|           Yes|       No|       No|       No|           No|     No|                  Yes|             Yes|         Yes|         No|                 No|                     No|                     No|              Yes|                       No|               No|                 NaN|                 NaN|      NaN| White only, Non-H...|   Age 70 to 74|          1.68|            95.25|33.89|            NaN|       NaN|         NaN|          NaN|                 NaN|             NaN|     NaN|\n",
      "|Alabama|Female|         Good|               0.0|             4.0|Within past year ...|                No|       7.0|         NaN|           Yes|      NaN|       No|       No|          Yes|    Yes|                  Yes|              No|         Yes|        Yes|                 No|                     No|                     No|              Yes|                       No|               No|       Former smoker|  Use them some days|      Yes| White only, Non-H...|   Age 55 to 59|          1.68|            94.35|33.57|             No|       Yes|         Yes|          Yes|Yes, received tet...|              No|     Yes|\n",
      "|Alabama|  Male|         Fair|              10.0|             0.0|Within past 2 yea...|               Yes|       5.0|         NaN|           Yes|       No|       No|       No|          Yes|     No|                   No|              No|         Yes|         No|                 No|                     No|                     No|               No|                       No|               No|        Never smoked|Never used e-ciga...|       No| White only, Non-H...|   Age 65 to 69|          1.78|            61.23|19.37|             No|        No|         Yes|          Yes|  Yes, received Tdap|              No|      No|\n",
      "|Alabama|  Male|    Very good|               0.0|             0.0|Within past year ...|               Yes|       7.0|         NaN|           Yes|      Yes|       No|       No|           No|     No|                  Yes|              No|         Yes|         No|                 No|                     No|                     No|               No|                       No|               No|       Former smoker|Never used e-ciga...|      Yes| Other race only, ...|   Age 75 to 79|          1.73|            76.66| 25.7|            NaN|       NaN|         NaN|          NaN|                 NaN|             NaN|     NaN|\n",
      "|Alabama|Female|         Poor|               0.0|            30.0|Within past year ...|               Yes|       8.0|         NaN|           Yes|       No|       No|      Yes|           No|    Yes|                  Yes|              No|         Yes|         No|                 No|                     No|                     No|               No|                       No|              Yes|                 NaN|                 NaN|      NaN| White only, Non-H...|   Age 55 to 59|          1.57|            81.65|32.92|            NaN|       NaN|         NaN|          NaN|                 NaN|             NaN|     NaN|\n",
      "|Alabama|Female|         Poor|              14.0|            30.0|Within past year ...|                No|       NaN|         NaN|           Yes|       No|       No|      Yes|           No|     No|                  Yes|              No|         Yes|        Yes|                Yes|                    NaN|                     No|              Yes|                       No|               No|        Never smoked|Never used e-ciga...|      Yes| Black only, Non-H...|   Age 75 to 79|          1.63|            91.63|34.67|             No|        No|          No|          Yes|Yes, received tet...|              No|      No|\n",
      "|Alabama|Female|         Poor|              30.0|            30.0|Within past year ...|                No|      18.0|         NaN|           Yes|      Yes|      Yes|       No|          Yes|     No|                   No|             Yes|         Yes|        Yes|                Yes|                    Yes|                    Yes|              Yes|                      Yes|              Yes|        Never smoked|Never used e-ciga...|      Yes| White only, Non-H...|Age 80 or older|           1.5|            47.17|21.01|             No|        No|          No|           No|No, did not recei...|              No|      No|\n",
      "|Alabama|  Male|         Fair|               8.0|             0.0|Within past year ...|                No|       7.0|         NaN|           Yes|      Yes|       No|       No|           No|    Yes|                   No|              No|          No|         No|                 No|                     No|                     No|               No|                       No|               No|Current smoker - ...|Not at all (right...|      Yes| Black only, Non-H...|   Age 70 to 74|          1.73|            64.41|21.59|            Yes|       NaN|          No|          Yes|Yes, received tet...|              No|      No|\n",
      "|Alabama|  Male|         Fair|               3.0|             1.0|Within past year ...|               Yes|       8.0|         NaN|           Yes|      Yes|      Yes|       No|          Yes|     No|                   No|              No|          No|         No|                 No|                     No|                     No|               No|                       No|               No|Current smoker - ...|Never used e-ciga...|      Yes| White only, Non-H...|   Age 70 to 74|           1.8|            68.04|20.92|            Yes|        No|         Yes|          Yes|No, did not recei...|              No|      No|\n",
      "|Alabama|Female|         Fair|               0.0|             0.0|Within past year ...|               Yes|       8.0|         NaN|           Yes|      Yes|       No|      Yes|          Yes|     No|                   No|              No|         Yes|         No|                 No|                     No|                     No|               No|                       No|               No|       Former smoker|Never used e-ciga...|      Yes| White only, Non-H...|   Age 75 to 79|          1.65|            74.84|27.46|             No|        No|         Yes|          Yes|No, did not recei...|              No|      No|\n",
      "|Alabama|  Male|         Fair|              30.0|            15.0|Within past year ...|                No|       6.0|         NaN|           Yes|      Yes|       No|       No|           No|     No|                   No|              No|         Yes|        Yes|                Yes|                     No|                     No|              Yes|                       No|               No|       Former smoker|  Use them some days|      Yes| White only, Non-H...|   Age 75 to 79|          1.68|            93.89|33.41|             No|        No|         Yes|          Yes|Yes, received tet...|              No|     Yes|\n",
      "+-------+------+-------------+------------------+----------------+--------------------+------------------+----------+------------+--------------+---------+---------+---------+-------------+-------+---------------------+----------------+------------+-----------+-------------------+-----------------------+-----------------------+-----------------+-------------------------+-----------------+--------------------+--------------------+---------+---------------------+---------------+--------------+-----------------+-----+---------------+----------+------------+-------------+--------------------+----------------+--------+\n",
      "only showing top 20 rows\n",
      "\n"
     ]
    }
   ],
   "source": [
    "filtered_df = spark_df.filter(spark_df.HadHeartAttack == \"Yes\")\n",
    "\n",
    "filtered_df.show()\n"
   ]
  },
  {
   "cell_type": "code",
   "execution_count": null,
   "metadata": {},
   "outputs": [],
   "source": [
    "filtered_df.write.csv(\"filtered_data.csv\")\n"
   ]
  }
 ],
 "metadata": {
  "kernelspec": {
   "display_name": "dev",
   "language": "python",
   "name": "python3"
  },
  "language_info": {
   "codemirror_mode": {
    "name": "ipython",
    "version": 3
   },
   "file_extension": ".py",
   "mimetype": "text/x-python",
   "name": "python",
   "nbconvert_exporter": "python",
   "pygments_lexer": "ipython3",
   "version": "3.10.13"
  }
 },
 "nbformat": 4,
 "nbformat_minor": 2
}
