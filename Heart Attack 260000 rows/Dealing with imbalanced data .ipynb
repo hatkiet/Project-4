{
 "cells": [
  {
   "cell_type": "markdown",
   "id": "7c353874-c710-48b2-88a7-bf63c35c91df",
   "metadata": {},
   "source": [
    "## Adjust Class Weights in Logistic Regression"
   ]
  },
  {
   "cell_type": "code",
   "execution_count": 2,
   "id": "4e4a5ed0-356b-4721-bc52-576a62b3bb8d",
   "metadata": {},
   "outputs": [
    {
     "name": "stdout",
     "output_type": "stream",
     "text": [
      "Test Set Evaluation:\n",
      "Accuracy: 0.8320023395496366\n",
      "Confusion Matrix:\n",
      " [[70315 13939]\n",
      " [  997  3655]]\n",
      "Classification Report:\n",
      "               precision    recall  f1-score   support\n",
      "\n",
      "           0       0.99      0.83      0.90     84254\n",
      "           1       0.21      0.79      0.33      4652\n",
      "\n",
      "    accuracy                           0.83     88906\n",
      "   macro avg       0.60      0.81      0.62     88906\n",
      "weighted avg       0.95      0.83      0.87     88906\n",
      "\n"
     ]
    }
   ],
   "source": [
    "import pandas as pd\n",
    "from sklearn.model_selection import train_test_split\n",
    "from sklearn.preprocessing import StandardScaler\n",
    "from sklearn.linear_model import LogisticRegression\n",
    "from sklearn.metrics import accuracy_score, confusion_matrix, classification_report\n",
    "\n",
    "# Load data set into pandas\n",
    "df = pd.read_csv(\"Cleaned_dataset.csv\")\n",
    "df.head()\n",
    "\n",
    "# Identify binary columns\n",
    "binary_columns = [column for column in df.columns if df[column].nunique() == 2]\n",
    "# Convert binary columns to 0 and 1\n",
    "for col in binary_columns:\n",
    "    unique_values = df[col].unique()\n",
    "    if set(unique_values) == {\"Yes\", \"No\"}:\n",
    "        df[col] = df[col].map({\"Yes\": 1, \"No\": 0})\n",
    "\n",
    "categorical_columns = ['Sex', 'GeneralHealth', 'LastCheckupTime', 'RemovedTeeth', 'HadDiabetes',\n",
    "                       'SmokerStatus', 'ECigaretteUsage', 'RaceEthnicityCategory', 'AgeCategory',\n",
    "                       'HighRiskLastYear', 'CovidPos']\n",
    "\n",
    "# Extract the categorical columns into a new DataFrame\n",
    "Categorical_col = df[categorical_columns]\n",
    "\n",
    "# Use pd.get_dummies to transform the categorical columns\n",
    "Transform_df = pd.get_dummies(Categorical_col, dtype=int)\n",
    "\n",
    "# Select numeric columns\n",
    "numeric_columns = df.select_dtypes(include=[\"float64\"]).columns\n",
    "df_numeric = df[numeric_columns]\n",
    "\n",
    "# Create standard scaler instance, fitting it, and scaling it\n",
    "scaler = StandardScaler()\n",
    "scaled_numeric_df = pd.DataFrame(scaler.fit_transform(df_numeric), columns=numeric_columns)\n",
    "\n",
    "# Drop the original columns\n",
    "df = df.drop(columns=categorical_columns + numeric_columns.tolist())\n",
    "\n",
    "# Combine the original DataFrame and the dummy variables DataFrame\n",
    "merged_df = pd.concat([df, Transform_df, scaled_numeric_df], axis=1)\n",
    "merged_df = merged_df.drop(columns='State')\n",
    "\n",
    "# Split the data into training and testing sets\n",
    "X = merged_df.drop(columns=\"HadHeartAttack\")\n",
    "y = merged_df[\"HadHeartAttack\"]\n",
    "X_train, X_test, y_train, y_test = train_test_split(X, y, test_size=0.3, random_state=42, stratify=y)\n",
    "\n",
    "# Create and fit the Logistic Regression model with class weights\n",
    "classifier = LogisticRegression(solver='lbfgs', max_iter=200, random_state=42, class_weight='balanced')\n",
    "classifier.fit(X_train, y_train)\n",
    "\n",
    "# Evaluate the model on the test set\n",
    "y_pred_test = classifier.predict(X_test)\n",
    "print(\"Test Set Evaluation:\")\n",
    "print(\"Accuracy:\", accuracy_score(y_test, y_pred_test))\n",
    "print(\"Confusion Matrix:\\n\", confusion_matrix(y_test, y_pred_test))\n",
    "print(\"Classification Report:\\n\", classification_report(y_test, y_pred_test))\n"
   ]
  },
  {
   "cell_type": "markdown",
   "id": "237ad83f-2dc8-4fb7-bb7f-598b27e18ec7",
   "metadata": {},
   "source": [
    "## Using Random Forest Classifier\n"
   ]
  },
  {
   "cell_type": "code",
   "execution_count": 3,
   "id": "38cbec36-2858-4945-966a-131184965269",
   "metadata": {},
   "outputs": [
    {
     "name": "stdout",
     "output_type": "stream",
     "text": [
      "Random Forest Test Set Evaluation:\n",
      "Accuracy: 0.9494859739500147\n",
      "Confusion Matrix:\n",
      " [[83847   407]\n",
      " [ 4084   568]]\n",
      "Classification Report:\n",
      "               precision    recall  f1-score   support\n",
      "\n",
      "           0       0.95      1.00      0.97     84254\n",
      "           1       0.58      0.12      0.20      4652\n",
      "\n",
      "    accuracy                           0.95     88906\n",
      "   macro avg       0.77      0.56      0.59     88906\n",
      "weighted avg       0.93      0.95      0.93     88906\n",
      "\n"
     ]
    }
   ],
   "source": [
    "from sklearn.ensemble import RandomForestClassifier\n",
    "\n",
    "# Create and fit the Random Forest model\n",
    "rf_classifier = RandomForestClassifier(n_estimators=100, random_state=42, class_weight='balanced')\n",
    "rf_classifier.fit(X_train, y_train)\n",
    "\n",
    "# Evaluate the model on the test set\n",
    "y_pred_test_rf = rf_classifier.predict(X_test)\n",
    "print(\"Random Forest Test Set Evaluation:\")\n",
    "print(\"Accuracy:\", accuracy_score(y_test, y_pred_test_rf))\n",
    "print(\"Confusion Matrix:\\n\", confusion_matrix(y_test, y_pred_test_rf))\n",
    "print(\"Classification Report:\\n\", classification_report(y_test, y_pred_test_rf))\n"
   ]
  },
  {
   "cell_type": "markdown",
   "id": "757dd404-3318-423c-bbb1-b554e06ef1c4",
   "metadata": {},
   "source": [
    "## Using Gradient Boosting Classifier with Class Weight\n"
   ]
  },
  {
   "cell_type": "code",
   "execution_count": 4,
   "id": "40eca57f-05d6-4fc1-bacc-62151d519bd7",
   "metadata": {},
   "outputs": [
    {
     "name": "stdout",
     "output_type": "stream",
     "text": [
      "Gradient Boosting Test Set Evaluation:\n",
      "Accuracy: 0.9514768407081636\n",
      "Confusion Matrix:\n",
      " [[83470   784]\n",
      " [ 3530  1122]]\n",
      "Classification Report:\n",
      "               precision    recall  f1-score   support\n",
      "\n",
      "           0       0.96      0.99      0.97     84254\n",
      "           1       0.59      0.24      0.34      4652\n",
      "\n",
      "    accuracy                           0.95     88906\n",
      "   macro avg       0.77      0.62      0.66     88906\n",
      "weighted avg       0.94      0.95      0.94     88906\n",
      "\n"
     ]
    }
   ],
   "source": [
    "from sklearn.ensemble import GradientBoostingClassifier\n",
    "\n",
    "# Create and fit the Gradient Boosting model\n",
    "gb_classifier = GradientBoostingClassifier(n_estimators=100, random_state=42)\n",
    "gb_classifier.fit(X_train, y_train)\n",
    "\n",
    "# Evaluate the model on the test set\n",
    "y_pred_test_gb = gb_classifier.predict(X_test)\n",
    "print(\"Gradient Boosting Test Set Evaluation:\")\n",
    "print(\"Accuracy:\", accuracy_score(y_test, y_pred_test_gb))\n",
    "print(\"Confusion Matrix:\\n\", confusion_matrix(y_test, y_pred_test_gb))\n",
    "print(\"Classification Report:\\n\", classification_report(y_test, y_pred_test_gb))\n"
   ]
  },
  {
   "cell_type": "markdown",
   "id": "31294c62-67ce-40e2-8f02-e3290b08f70a",
   "metadata": {},
   "source": [
    "## Using XGBoost Classifier\n"
   ]
  },
  {
   "cell_type": "code",
   "execution_count": 5,
   "id": "15b65a15-a110-453a-bc25-de80ad564fa2",
   "metadata": {},
   "outputs": [
    {
     "name": "stdout",
     "output_type": "stream",
     "text": [
      "XGBoost Test Set Evaluation:\n",
      "Accuracy: 0.8461296200481407\n",
      "Confusion Matrix:\n",
      " [[71825 12429]\n",
      " [ 1251  3401]]\n",
      "Classification Report:\n",
      "               precision    recall  f1-score   support\n",
      "\n",
      "           0       0.98      0.85      0.91     84254\n",
      "           1       0.21      0.73      0.33      4652\n",
      "\n",
      "    accuracy                           0.85     88906\n",
      "   macro avg       0.60      0.79      0.62     88906\n",
      "weighted avg       0.94      0.85      0.88     88906\n",
      "\n"
     ]
    }
   ],
   "source": [
    "import xgboost as xgb\n",
    "\n",
    "# Create and fit the XGBoost model\n",
    "xgb_classifier = xgb.XGBClassifier(random_state=42, scale_pos_weight=len(y_train[y_train==0]) / len(y_train[y_train==1]))\n",
    "xgb_classifier.fit(X_train, y_train)\n",
    "\n",
    "# Evaluate the model on the test set\n",
    "y_pred_test_xgb = xgb_classifier.predict(X_test)\n",
    "print(\"XGBoost Test Set Evaluation:\")\n",
    "print(\"Accuracy:\", accuracy_score(y_test, y_pred_test_xgb))\n",
    "print(\"Confusion Matrix:\\n\", confusion_matrix(y_test, y_pred_test_xgb))\n",
    "print(\"Classification Report:\\n\", classification_report(y_test, y_pred_test_xgb))\n"
   ]
  },
  {
   "cell_type": "markdown",
   "id": "24e1597c-ab23-4481-a842-ff7ab7b89713",
   "metadata": {},
   "source": [
    "## Plotting Comparisons"
   ]
  },
  {
   "cell_type": "code",
   "execution_count": 7,
   "id": "8a3ceadb-014e-437d-a794-8cbd67bea28e",
   "metadata": {},
   "outputs": [
    {
     "data": {
      "image/png": "[encoded data removed]",
      "text/plain": [
       "<Figure size 640x480 with 1 Axes>"
      ]
     },
     "metadata": {},
     "output_type": "display_data"
    }
   ],
   "source": [
    "import matplotlib.pyplot as plt\n",
    "# Plot the comparison of accuracy\n",
    "labels = ['Logistic Regression', 'Random Forest', 'Gradient Boosting', 'XGBoost']\n",
    "accuracies = [\n",
    "    accuracy_score(y_test, y_pred_test),\n",
    "    accuracy_score(y_test, y_pred_test_rf),\n",
    "    accuracy_score(y_test, y_pred_test_gb),\n",
    "    accuracy_score(y_test, y_pred_test_xgb)\n",
    "]\n",
    "\n",
    "plt.bar(labels, accuracies, color=['blue', 'orange', 'green', 'red'])\n",
    "plt.xlabel('Models')\n",
    "plt.ylabel('Accuracy')\n",
    "plt.title('Comparison of Model Accuracy on Test Set')\n",
    "plt.ylim(0, 1)\n",
    "plt.show()\n"
   ]
  },
  {
   "cell_type": "code",
   "execution_count": null,
   "id": "3849d2f6-05ad-473d-8233-bab2fa54b741",
   "metadata": {},
   "outputs": [],
   "source": []
  }
 ],
 "metadata": {
  "kernelspec": {
   "display_name": "Python 3 (ipykernel)",
   "language": "python",
   "name": "python3"
  },
  "language_info": {
   "codemirror_mode": {
    "name": "ipython",
    "version": 3
   },
   "file_extension": ".py",
   "mimetype": "text/x-python",
   "name": "python",
   "nbconvert_exporter": "python",
   "pygments_lexer": "ipython3",
   "version": "3.10.13"
  }
 },
 "nbformat": 4,
 "nbformat_minor": 5
}
