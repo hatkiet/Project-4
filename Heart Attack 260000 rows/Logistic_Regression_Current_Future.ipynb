{
 "cells": [
  {
   "cell_type": "code",
   "execution_count": 3,
   "id": "4e2285aa-1d84-446a-b828-53722025a4c4",
   "metadata": {},
   "outputs": [],
   "source": [
    "import pandas as pd\n",
    "from sklearn.model_selection import train_test_split\n",
    "from sklearn.preprocessing import StandardScaler\n",
    "from sklearn.linear_model import LogisticRegression\n",
    "from sklearn.metrics import accuracy_score, confusion_matrix, classification_report\n",
    "import matplotlib.pyplot as plt"
   ]
  },
  {
   "cell_type": "code",
   "execution_count": 4,
   "id": "8f24d412-befc-456f-9865-b3d64db7f140",
   "metadata": {},
   "outputs": [],
   "source": [
    "# Data Preprocessing\n",
    "# Load data set into pandas\n",
    "df = pd.read_csv(\"Cleaned_dataset.csv\")\n",
    "df.head()\n",
    "\n",
    "# Identify binary columns\n",
    "binary_columns = [column for column in df.columns if df[column].nunique() == 2]\n",
    "# Convert binary columns to 0 and 1\n",
    "for col in binary_columns:\n",
    "    unique_values = df[col].unique()\n",
    "    if set(unique_values) == {\"Yes\", \"No\"}:\n",
    "        df[col] = df[col].map({\"Yes\": 1, \"No\": 0})\n",
    "\n",
    "catogorical_columns = ['Sex', 'GeneralHealth', 'LastCheckupTime', 'RemovedTeeth', 'HadDiabetes',\n",
    "                       'SmokerStatus', 'ECigaretteUsage', 'RaceEthnicityCategory', 'AgeCategory',\n",
    "                       'HighRiskLastYear', 'CovidPos']\n",
    "\n",
    "# Extract the categorical columns into a new DataFrame\n",
    "Catogorical_col = df[catogorical_columns]\n",
    "\n",
    "# Use pd.get_dummies to transform the categorical columns\n",
    "Transform_df = pd.get_dummies(Catogorical_col, dtype=int)\n",
    "\n",
    "# Select numeric columns\n",
    "numeric_columns = df.select_dtypes(include=[\"float64\"]).columns\n",
    "df_numeric = df[numeric_columns]\n",
    "\n",
    "# Create standard scaler instance, fitting it, and scaling it\n",
    "scaler = StandardScaler()\n",
    "scaled_numeric_df = pd.DataFrame(scaler.fit_transform(df_numeric), columns=numeric_columns)\n",
    "\n",
    "# Drop the original columns\n",
    "df = df.drop(columns=catogorical_columns + numeric_columns.tolist())\n",
    "\n",
    "# Combine the original DataFrame and the dummy variables DataFrame\n",
    "merged_df = pd.concat([df, Transform_df, scaled_numeric_df], axis=1)\n",
    "merged_df = merged_df.drop(columns='State')\n"
   ]
  },
  {
   "cell_type": "code",
   "execution_count": 5,
   "id": "712b35c1-8ea0-438a-b4ea-8558f435663f",
   "metadata": {},
   "outputs": [],
   "source": [
    "# Split the data into 90% training and 10% and save the 10% for future testing\n",
    "X = merged_df.drop(columns=\"HadHeartAttack\")\n",
    "y = merged_df[\"HadHeartAttack\"]\n",
    "X_train, X_future_test, y_train, y_future_test = train_test_split(X, y, test_size=0.1, random_state=42, stratify=y)\n",
    "\n",
    "# Save the 20% future test data into a CSV file\n",
    "future_test_data = pd.concat([X_future_test, y_future_test], axis=1)\n",
    "future_test_data.to_csv(\"future_test_data.csv\", index=False)\n",
    "\n",
    "Data_available = pd.concat([X_train, y_train], axis=1)\n",
    "Data_available.to_csv(\"train_data.csv\", index=False)\n"
   ]
  },
  {
   "cell_type": "code",
   "execution_count": 6,
   "id": "ac7f4cb9-bf83-4e1e-8471-421c3fee1d73",
   "metadata": {},
   "outputs": [
    {
     "name": "stdout",
     "output_type": "stream",
     "text": [
      "(213372, 73) (53344, 73) (213372,) (53344,)\n",
      "Test Set Evaluation:\n",
      "Accuracy: 0.9503974205158968\n",
      "Confusion Matrix:\n",
      " [[50013   540]\n",
      " [ 2106   685]]\n",
      "Classification Report:\n",
      "               precision    recall  f1-score   support\n",
      "\n",
      "           0       0.96      0.99      0.97     50553\n",
      "           1       0.56      0.25      0.34      2791\n",
      "\n",
      "    accuracy                           0.95     53344\n",
      "   macro avg       0.76      0.62      0.66     53344\n",
      "weighted avg       0.94      0.95      0.94     53344\n",
      "\n"
     ]
    }
   ],
   "source": [
    "df = pd.read_csv (\"train_data.csv\")\n",
    "\n",
    "# Split the data into 90% training and 10% and save the 10% for future testing\n",
    "X = df.drop(columns=\"HadHeartAttack\")\n",
    "y = df[\"HadHeartAttack\"]\n",
    "\n",
    "# Split the remaining 90% into training and test sets (80% training, 20% test)\n",
    "X_train, X_test, y_train, y_test = train_test_split(X_train, y_train, test_size=0.2, random_state=42, stratify=y_train)\n",
    "\n",
    "# Display the shapes of the resulting datasets\n",
    "print(X_train.shape, X_test.shape, y_train.shape, y_test.shape)\n",
    "\n",
    "# Step 6: Create and fit the Logistic Regression model\n",
    "classifier = LogisticRegression(solver='lbfgs', max_iter=200, random_state=42)\n",
    "classifier.fit(X_train, y_train)\n",
    "\n",
    "# Evaluate the model on the 16% test set\n",
    "y_pred_test = classifier.predict(X_test)\n",
    "print(\"Test Set Evaluation:\")\n",
    "print(\"Accuracy:\", accuracy_score(y_test, y_pred_test))\n",
    "print(\"Confusion Matrix:\\n\", confusion_matrix(y_test, y_pred_test))\n",
    "print(\"Classification Report:\\n\", classification_report(y_test, y_pred_test))\n"
   ]
  },
  {
   "cell_type": "code",
   "execution_count": 7,
   "id": "dfa96ebb-892e-45b1-acd7-fa1316955a52",
   "metadata": {},
   "outputs": [
    {
     "name": "stdout",
     "output_type": "stream",
     "text": [
      "Future Test Set Evaluation:\n",
      "Accuracy: 0.950566878121204\n",
      "Confusion Matrix:\n",
      " [[27780   305]\n",
      " [ 1160   391]]\n",
      "Classification Report:\n",
      "               precision    recall  f1-score   support\n",
      "\n",
      "           0       0.96      0.99      0.97     28085\n",
      "           1       0.56      0.25      0.35      1551\n",
      "\n",
      "    accuracy                           0.95     29636\n",
      "   macro avg       0.76      0.62      0.66     29636\n",
      "weighted avg       0.94      0.95      0.94     29636\n",
      "\n"
     ]
    },
    {
     "data": {
      "image/png": "[encoded data removed]",
      "text/plain": [
       "<Figure size 640x480 with 1 Axes>"
      ]
     },
     "metadata": {},
     "output_type": "display_data"
    }
   ],
   "source": [
    "# Load the 20% future test data from the CSV file\n",
    "future_test_data = pd.read_csv(\"future_test_data.csv\")\n",
    "\n",
    "X_future_test = future_test_data.drop(columns=\"HadHeartAttack\")\n",
    "y_future_test = future_test_data[\"HadHeartAttack\"]\n",
    "\n",
    "# Evaluate the model on the 20% future test set\n",
    "y_pred_future_test = classifier.predict(X_future_test)\n",
    "print(\"Future Test Set Evaluation:\")\n",
    "print(\"Accuracy:\", accuracy_score(y_future_test, y_pred_future_test))\n",
    "print(\"Confusion Matrix:\\n\", confusion_matrix(y_future_test, y_pred_future_test))\n",
    "print(\"Classification Report:\\n\", classification_report(y_future_test, y_pred_future_test))\n",
    "\n",
    "# Plot the comparison of accuracy\n",
    "labels = ['Current Test Set', 'Future Test Set']\n",
    "accuracies = [accuracy_score(y_test, y_pred_test), accuracy_score(y_future_test, y_pred_future_test)]\n",
    "\n",
    "plt.bar(labels, accuracies, color=['blue', 'orange'])\n",
    "plt.xlabel('Test Sets')\n",
    "plt.ylabel('Accuracy')\n",
    "plt.title('Comparison of Model Accuracy on Different Test Sets')\n",
    "plt.ylim(0, 1)\n",
    "plt.show()\n"
   ]
  },
  {
   "cell_type": "code",
   "execution_count": null,
   "id": "1943a69a-cb6d-43c6-9d54-3ecd0b21567f",
   "metadata": {},
   "outputs": [],
   "source": []
  }
 ],
 "metadata": {
  "kernelspec": {
   "display_name": "Python 3 (ipykernel)",
   "language": "python",
   "name": "python3"
  },
  "language_info": {
   "codemirror_mode": {
    "name": "ipython",
    "version": 3
   },
   "file_extension": ".py",
   "mimetype": "text/x-python",
   "name": "python",
   "nbconvert_exporter": "python",
   "pygments_lexer": "ipython3",
   "version": "3.10.13"
  }
 },
 "nbformat": 4,
 "nbformat_minor": 5
}
