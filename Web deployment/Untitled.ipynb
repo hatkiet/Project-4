{
 "cells": [
  {
   "cell_type": "code",
   "execution_count": 1,
   "id": "8233ed8a-a666-4b3c-8552-157a1f53137a",
   "metadata": {},
   "outputs": [
    {
     "name": "stdout",
     "output_type": "stream",
     "text": [
      "Age Categories: ['Age 18 to 24', 'Age 25 to 29', 'Age 30 to 34', 'Age 35 to 39', 'Age 40 to 44', 'Age 45 to 49', 'Age 50 to 54', 'Age 55 to 59', 'Age 60 to 64', 'Age 65 to 69', 'Age 70 to 74', 'Age 75 to 79', 'Age 80 or older']\n",
      "Male Counts: [10512, 8193, 8941, 9779, 10011, 9696, 11217, 12507, 14428, 15626, 14209, 9677, 8868]\n",
      "Female Counts: [7979, 6987, 8493, 9928, 10863, 10279, 12232, 13297, 16324, 17100, 15464, 11574, 12168]\n"
     ]
    }
   ],
   "source": [
    "import pandas as pd\n",
    "import plotly.graph_objects as go\n",
    "\n",
    "heart_attack_data = pd.read_csv(\"Cleaned_dataset.csv\")\n",
    "\n",
    "#Calculate the count of individuals who had a heart attack by AgeCategory and Sex\n",
    "heart_attack_count_by_age_sex = heart_attack_data.groupby(['AgeCategory', 'Sex']).size().unstack(fill_value=0)\n",
    "\n",
    "# Convert to the format required for Plotly\n",
    "age_categories = heart_attack_count_by_age_sex.index.tolist()\n",
    "male_counts = heart_attack_count_by_age_sex['Male'].tolist()\n",
    "female_counts = heart_attack_count_by_age_sex['Female'].tolist()\n",
    "\n",
    "print(\"Age Categories:\", age_categories)\n",
    "print(\"Male Counts:\", male_counts)\n",
    "print(\"Female Counts:\", female_counts)\n"
   ]
  },
  {
   "cell_type": "code",
   "execution_count": null,
   "id": "14fec0e4-086f-4e85-870b-efac588fae70",
   "metadata": {},
   "outputs": [],
   "source": []
  }
 ],
 "metadata": {
  "kernelspec": {
   "display_name": "Python 3 (ipykernel)",
   "language": "python",
   "name": "python3"
  },
  "language_info": {
   "codemirror_mode": {
    "name": "ipython",
    "version": 3
   },
   "file_extension": ".py",
   "mimetype": "text/x-python",
   "name": "python",
   "nbconvert_exporter": "python",
   "pygments_lexer": "ipython3",
   "version": "3.10.13"
  }
 },
 "nbformat": 4,
 "nbformat_minor": 5
}
